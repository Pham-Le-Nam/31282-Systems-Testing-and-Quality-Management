{
 "cells": [
  {
   "cell_type": "markdown",
   "id": "9b2d8a96",
   "metadata": {},
   "source": [
    "# Installing selenium and behave libraries into the environment"
   ]
  },
  {
   "cell_type": "code",
   "execution_count": null,
   "id": "9b89e316",
   "metadata": {},
   "outputs": [],
   "source": [
    "%pip install selenium behave"
   ]
  },
  {
   "cell_type": "markdown",
   "id": "13ae7155",
   "metadata": {},
   "source": [
    "# Import webdriver and Launch the website"
   ]
  },
  {
   "cell_type": "code",
   "execution_count": 54,
   "id": "b51cf81b",
   "metadata": {},
   "outputs": [],
   "source": [
    "from selenium import webdriver\n",
    "from selenium.webdriver.common.by import By\n",
    "\n",
    "driver = webdriver.Chrome()\n",
    "driver.get(\"https://ecommerce-playground.lambdatest.io/index.php?route=common/home\")\n"
   ]
  },
  {
   "cell_type": "markdown",
   "id": "1c54d900",
   "metadata": {},
   "source": [
    "# Testing functions"
   ]
  },
  {
   "cell_type": "markdown",
   "id": "5f979af8",
   "metadata": {},
   "source": [
    "## Test the Registration function\n",
    "### The inputs needed to be tested includes:\n",
    "- Navigate to the \"Register\" page\n",
    "- Entering the first name \"Steven\"\n",
    "- Entering the last name \"Nguyen\"\n",
    "- Entering the email address \"MinhTien.Nguyen@student.uts.edu.au\"\n",
    "- Entering the telephone number \"04261922762\"\n",
    "- Entering the password \"bachkhoa\"\n",
    "- Entering the confirmed password \"bachkhoa\"\n",
    "- Click \"Yes\" for the \"Subscribe\" checkbox\n",
    "- Click for the Policy checkbox\n",
    "- Click the \"Continue\" button\n",
    "\n",
    "### The output is:\n",
    "- The program creates the new account successfully"
   ]
  },
  {
   "cell_type": "code",
   "execution_count": 2,
   "id": "2f5d607c",
   "metadata": {},
   "outputs": [],
   "source": [
    "import time\n",
    "\n",
    "def Register(firstname: str, lastname: str, email: str, phone_number: str, password: str, confirmed_password: str, \n",
    "             input_newsletter: bool, policy_requirement: bool, confirm_button: bool, driver: webdriver.Chrome ):\n",
    "    \n",
    "    driver.get(\"https://ecommerce-playground.lambdatest.io/index.php?route=account/register\")\n",
    "    url = driver.current_url\n",
    "    print(url) #* Check successfully\n",
    "\n",
    "    input_first_name = driver.find_element(By.ID, \"input-firstname\")\n",
    "    assert input_first_name is not None #* To check whether the ID exists or not\n",
    "    input_first_name.send_keys(firstname)\n",
    "\n",
    "    input_last_name = driver.find_element(By.ID, \"input-lastname\")\n",
    "    assert input_last_name is not None\n",
    "    input_last_name.send_keys(lastname)\n",
    "\n",
    "    input_email = driver.find_element(By.ID, \"input-email\")\n",
    "    assert input_email is not None\n",
    "    input_email.send_keys(email) \n",
    "\n",
    "    input_telephone = driver.find_element(By.ID, \"input-telephone\")\n",
    "    assert input_telephone is not None\n",
    "    input_telephone.send_keys(phone_number) \n",
    "\n",
    "    input_password = driver.find_element(By.ID, \"input-password\")\n",
    "    assert input_password is not None\n",
    "    input_password.send_keys(password) \n",
    "\n",
    "    input_passwordConfirm = driver.find_element(By.ID, \"input-confirm\")\n",
    "    assert input_passwordConfirm is not None\n",
    "    input_passwordConfirm.send_keys(confirmed_password) \n",
    "    assert input_passwordConfirm.get_attribute(\"value\")==password\n",
    "    \n",
    "    if (input_newsletter == True):\n",
    "        subscribe = driver.find_element(By.ID, \"input-newsletter-yes\")\n",
    "        driver.execute_script(\"arguments[0].click();\", subscribe)\n",
    "    else:\n",
    "        subscribe = driver.find_element(By.ID, \"input-newsletter-no\")\n",
    "        driver.execute_script(\"arguments[0].click();\", subscribe)\n",
    "\n",
    "    if (policy_requirement == True):\n",
    "        policy_requirement_driver = driver.find_element(By.ID, \"input-agree\")\n",
    "        driver.execute_script(\"arguments[0].click();\", policy_requirement_driver)\n",
    "    else:\n",
    "        print(\"The button is not clicked\")\n",
    "        \n",
    "\n",
    "    time.sleep(2)\n",
    "\n",
    "    if (confirm_button == True):\n",
    "        continue_button = driver.find_element(By.CSS_SELECTOR, \"input[value='Continue'].btn.btn-primary\")\n",
    "        assert continue_button is not None, \"Continue button is not found\"\n",
    "        continue_button.click()\n",
    "    else:\n",
    "        print(\"The confirm button is not clicked\")"
   ]
  },
  {
   "cell_type": "markdown",
   "id": "58a820c0",
   "metadata": {},
   "source": [
    "---"
   ]
  },
  {
   "cell_type": "markdown",
   "id": "c252c03a",
   "metadata": {},
   "source": [
    "## Test the Searching Function\n",
    "### The inputs needed to be tested includes:\n",
    "- Navigate to the \"Home\" page\n",
    "- Choose the \"Desktops\" (Product Category)\n",
    "- Enter the product keyword \"A\"\n",
    "- Choose the first product of dropdown => This is used to test the dropdown selection function\n",
    "- Clear the search box and replace by \"A\" again\n",
    "- Enter the \"Search\" button => This is used to test the \"Search\" button\n",
    "- Clicking the checkbox for \"Search in product descriptions\"\n",
    "- Choosing the \"List\" view\n",
    "- Choosing the \"Grid\" view\n",
    "- Choosing the number of showed products (50)\n",
    "\n",
    "### The output is:\n",
    "- The \"Search function\" performs as expected\n"
   ]
  },
  {
   "cell_type": "code",
   "execution_count": 3,
   "id": "bcb5cb35",
   "metadata": {},
   "outputs": [],
   "source": [
    "from selenium.webdriver.support.ui import Select\n",
    "\n",
    "def view_Option(description_checkbox: bool, list: bool, grid: bool, number_view: str, driver : webdriver.Chrome):\n",
    "    # TODO: Check box for “Search in product descriptions”\n",
    "    if (description_checkbox == True):\n",
    "        description_checkbox = driver.find_element(By.ID, \"description\")\n",
    "        assert description_checkbox is not None, \"The description checkbox cannot be found\"\n",
    "        driver.execute_script(\"arguments[0].click();\", description_checkbox)\n",
    "    else:\n",
    "        print(\"The description checkbox is not clicked\")\n",
    "\n",
    "    # TODO: Choose the format “Grid” or “List”\n",
    "    if (list == True):\n",
    "        list_view = driver.find_element(By.ID, \"list-view\")\n",
    "        assert list_view is not None, \"Cannot find the list view option\"\n",
    "        driver.execute_script(\"arguments[0].click();\", list_view)\n",
    "        time.sleep(2) #! Waiting 2 seconds to see the change\n",
    "    \n",
    "    if (grid == True):\n",
    "        grid_view = driver.find_element(By.ID, \"grid-view\")\n",
    "        assert grid_view is not None, \"Cannot find the grid view option\"\n",
    "        driver.execute_script(\"arguments[0].click();\", grid_view)\n",
    "        time.sleep(2) #! Waiting 2 seconds to see the change\n",
    "\n",
    "    # TODO: Choose the “Number” of showing\n",
    "    show_number = driver.find_element(By.ID, \"input-limit-212463\")\n",
    "    assert show_number is not None, \"Cannot find the show number dropdown\"\n",
    "    select = Select(show_number)\n",
    "    select.select_by_visible_text(number_view)\n",
    "    time.sleep(2) #! Waiting 2 seconds to see the change\n",
    "    driver.execute_script(\"window.scrollTo(0, document.body.scrollHeight);\")\n",
    "    time.sleep(2) #! Waiting 2 seconds to see the change"
   ]
  },
  {
   "cell_type": "code",
   "execution_count": 4,
   "id": "7383b6e3",
   "metadata": {},
   "outputs": [],
   "source": [
    "def Product_List(keyword_2: str, driver: webdriver.Chrome):\n",
    "    # TODO: Delete search box and replace by keyword_2\n",
    "    product_search = driver.find_element(By.CSS_SELECTOR, \"input[placeholder='Search For Products']\")\n",
    "    assert product_search is not None, \"Cannot find the place for inputting the searching\"  \n",
    "    product_search.clear()\n",
    "\n",
    "    time.sleep(1)\n",
    "\n",
    "    product_search.send_keys(keyword_2)\n",
    "    dropdown_search = driver.find_element(By.CSS_SELECTOR, \"ul.dropdown-menu.autocomplete.w-100\")\n",
    "    assert dropdown_search is not None, \"Cannot find the dropdown of search\"\n",
    "    time.sleep(2) #! Waiting 2 seconds for the dropdown to appear\n",
    "\n",
    "    # TODO: Check the \"Search\" button even the dropdown appears\n",
    "    search_button = driver.find_element(By.CSS_SELECTOR, \"button[type='submit'].type-text\")\n",
    "    assert search_button is not None, \"Cannot find the search button\"\n",
    "    driver.execute_script(\"arguments[0].click();\", search_button)"
   ]
  },
  {
   "cell_type": "code",
   "execution_count": 5,
   "id": "88b1f887",
   "metadata": {},
   "outputs": [],
   "source": [
    "def Search_Product(keyword_1: str, keyword_2: str, driver: webdriver.Chrome):\n",
    "    driver.get(\"https://ecommerce-playground.lambdatest.io/index.php?route=common/home\")\n",
    "\n",
    "    category_button = driver.find_element(By.CSS_SELECTOR, \"button[type='button'].btn.dropdown-toggle\")\n",
    "    assert category_button is not None, \"The Category button cannot be found\"\n",
    "    category_button.click()\n",
    "    \n",
    "    time.sleep(1)\n",
    "\n",
    "    # TODO: Choose the \"Category\"\n",
    "    specific_category = driver.find_element(By.CSS_SELECTOR, \"a[data-category_id='20'].dropdown-item\")\n",
    "    assert specific_category is not None, \"Cannot choose the Desktop category\"\n",
    "    driver.execute_script(\"arguments[0].click();\", specific_category)\n",
    "\n",
    "    # TODO: Search the product name\n",
    "    product_search = driver.find_element(By.CSS_SELECTOR, \"input[placeholder='Search For Products']\")\n",
    "    assert product_search is not None, \"Cannot find the place for inputting the searching\"\n",
    "    product_search.send_keys(keyword_1)\n",
    "\n",
    "    # TODO: If receiving the proposed product, choose the first one\n",
    "    dropdown_search = driver.find_element(By.CSS_SELECTOR, \"ul.dropdown-menu.autocomplete.w-100\")\n",
    "    assert dropdown_search is not None, \"Cannot find the dropdown of search\"\n",
    "\n",
    "    time.sleep(2) #! Waiting 2 seconds for the dropdown to appear\n",
    "\n",
    "    if not dropdown_search.is_displayed():\n",
    "        #TODO: Click the search button\n",
    "        search_button = driver.find_element(By.CSS_SELECTOR, \"button[type='submit'].type-text\")\n",
    "        assert search_button is not None, \"Cannot find the search button\"\n",
    "        driver.execute_script(\"arguments[0].click();\", search_button)\n",
    "\n",
    "    elif dropdown_search.is_displayed():\n",
    "        # TODO: Click the first element\n",
    "        first_element = dropdown_search.find_element(By.CSS_SELECTOR, \".product-thumb .image a\")\n",
    "        assert first_element is not None, \"Cannot find the first element\"\n",
    "        link_url = first_element.get_attribute(\"href\")\n",
    "        if link_url:\n",
    "            driver.get(link_url)\n",
    "            Product_List(keyword_2, driver)\n",
    "        else:\n",
    "            raise Exception(\"The href attribute is missing or empty.\")"
   ]
  },
  {
   "cell_type": "code",
   "execution_count": 6,
   "id": "22fc4303",
   "metadata": {},
   "outputs": [],
   "source": [
    "def Search_Test (keyword_1: str, keyword_2: str, description_checkbox: bool, list: bool, grid: bool, number_view: str, driver):\n",
    "    Search_Product (keyword_1, keyword_2, driver)\n",
    "    view_Option (description_checkbox, list, grid, number_view, driver)"
   ]
  },
  {
   "cell_type": "markdown",
   "id": "fa223223",
   "metadata": {},
   "source": [
    "---"
   ]
  },
  {
   "cell_type": "markdown",
   "id": "2f060d3c",
   "metadata": {},
   "source": [
    "## Testing Login Function\n",
    "- Go to the login page\n",
    "- Input login information\n",
    "- Press the login button to login"
   ]
  },
  {
   "cell_type": "markdown",
   "id": "28e19a9b",
   "metadata": {},
   "source": [
    "### Go to the login page\n",
    "- Click the button \"My Account\" on the Navigation bar"
   ]
  },
  {
   "cell_type": "code",
   "execution_count": 7,
   "id": "ae75ffcc",
   "metadata": {},
   "outputs": [],
   "source": [
    "def go_to_login(driver : webdriver.Chrome):\n",
    "    # Click the button \"My Account\" on the Navigatino bar\n",
    "    DROPDOWN_ELEMENTS = driver.find_elements(By.CLASS_NAME, \"icon-left.both.nav-link.dropdown-toggle\")\n",
    "    for element in DROPDOWN_ELEMENTS:\n",
    "        if element.text == \"My account\":\n",
    "            element.click()\n",
    "\n",
    "    # Find the \"Register\" button then click it\n",
    "    LIST_GROUP_ITEM = driver.find_elements(By.CLASS_NAME, \"list-group-item\")\n",
    "    for item in LIST_GROUP_ITEM:\n",
    "\n",
    "        # User has logged in. Must logout then try to register again\n",
    "        if item.text == \"Logout\":\n",
    "            item.click()\n",
    "            go_to_login(driver)\n",
    "            return"
   ]
  },
  {
   "cell_type": "markdown",
   "id": "cb7f3ae3",
   "metadata": {},
   "source": [
    "### Input the information\n",
    "- Email\n",
    "- Password"
   ]
  },
  {
   "cell_type": "code",
   "execution_count": 8,
   "id": "87008e03",
   "metadata": {},
   "outputs": [],
   "source": [
    "# This function fills in the user's information and check the checkboxes\n",
    "def input_login_information(email : str, password : str, driver : webdriver.Chrome = None):\n",
    "    # Clear the input box and fill in the information\n",
    "    try: \n",
    "        EMAIL_INPUT = driver.find_element(By.ID, \"input-email\")\n",
    "        EMAIL_INPUT.clear()\n",
    "        EMAIL_INPUT.send_keys(email)\n",
    "        \n",
    "        PASSWORD_INPUT = driver.find_element(By.ID, \"input-password\")\n",
    "        PASSWORD_INPUT.clear()\n",
    "        PASSWORD_INPUT.send_keys(password)\n",
    "    except:\n",
    "        assert False, \"You may not in the correct page\""
   ]
  },
  {
   "cell_type": "markdown",
   "id": "38c91e7d",
   "metadata": {},
   "source": [
    "### Press the continue button to login"
   ]
  },
  {
   "cell_type": "code",
   "execution_count": 9,
   "id": "a3a3be96",
   "metadata": {},
   "outputs": [],
   "source": [
    "def click_login_button(driver : webdriver.Chrome):\n",
    "    try:\n",
    "        driver.find_element(By.CSS_SELECTOR, \"input.btn.btn-primary\").click()\n",
    "    except:\n",
    "        assert False, \"You might not in the correct page\""
   ]
  },
  {
   "cell_type": "markdown",
   "id": "77022e63",
   "metadata": {},
   "source": [
    "### Combine the functions"
   ]
  },
  {
   "cell_type": "code",
   "execution_count": 10,
   "id": "541d0682",
   "metadata": {},
   "outputs": [],
   "source": [
    "def login(email : str, password : str, driver : webdriver.Chrome = None):\n",
    "    go_to_login(driver)\n",
    "    input_login_information(email, password, driver)\n",
    "    click_login_button(driver)"
   ]
  },
  {
   "cell_type": "markdown",
   "id": "c889ddf8",
   "metadata": {},
   "source": [
    "---"
   ]
  },
  {
   "cell_type": "markdown",
   "id": "a71f5a6a",
   "metadata": {},
   "source": [
    "## Test edit account information"
   ]
  },
  {
   "cell_type": "markdown",
   "id": "cd929616",
   "metadata": {},
   "source": [
    "### Edit personal details"
   ]
  },
  {
   "cell_type": "markdown",
   "id": "5e098157",
   "metadata": {},
   "source": [
    "- Go to edit personal page"
   ]
  },
  {
   "cell_type": "code",
   "execution_count": 11,
   "id": "cc1aa673",
   "metadata": {},
   "outputs": [],
   "source": [
    "def go_to_edit_personal(driver : webdriver.Chrome):\n",
    "    # Click the button \"My Account\" on the Navigatino bar\n",
    "    DROPDOWN_ELEMENTS = driver.find_elements(By.CLASS_NAME, \"icon-left.both.nav-link.dropdown-toggle\")\n",
    "    for element in DROPDOWN_ELEMENTS:\n",
    "        if element.text == \"My account\":\n",
    "            element.click()\n",
    "\n",
    "    # Find the \"Register\" button then click it\n",
    "    LIST_GROUP_ITEM = driver.find_elements(By.CLASS_NAME, \"list-group-item\")\n",
    "    for item in LIST_GROUP_ITEM:\n",
    "\n",
    "        if item.text == \"Edit Account\":\n",
    "            item.click()\n",
    "            return\n",
    "\n",
    "        # Assert if the user did not log in\n",
    "        assert item.text != \"Login\", \"You did not log in yet.\""
   ]
  },
  {
   "cell_type": "markdown",
   "id": "bfcc348c",
   "metadata": {},
   "source": [
    "- Input details"
   ]
  },
  {
   "cell_type": "code",
   "execution_count": 12,
   "id": "9fd5fd8d",
   "metadata": {},
   "outputs": [],
   "source": [
    "# Empty string means do not edit that field\n",
    "def input_edit_personal(first_name : str = \"\", last_name : str = \"\", email : str = \"\", telephone : str = \"\", driver : webdriver.Chrome = None):\n",
    "    try:\n",
    "        FIRST_NAME_INPUT = driver.find_element(By.ID, \"input-firstname\")\n",
    "        if len(first_name):\n",
    "            FIRST_NAME_INPUT.clear()\n",
    "            FIRST_NAME_INPUT.send_keys(first_name)\n",
    "\n",
    "        LAST_NAME_INPUT = driver.find_element(By.ID, \"input-lastname\")\n",
    "        if len(last_name):\n",
    "            LAST_NAME_INPUT.clear()\n",
    "            LAST_NAME_INPUT.send_keys(last_name)\n",
    "\n",
    "        EMAIL_INPUT = driver.find_element(By.ID, \"input-email\")\n",
    "        if len(email):\n",
    "            EMAIL_INPUT.clear()\n",
    "            EMAIL_INPUT.send_keys(email)\n",
    "\n",
    "        TELEPHONE_INPUT = driver.find_element(By.ID, \"input-telephone\")\n",
    "        if len(telephone):\n",
    "            TELEPHONE_INPUT.clear()\n",
    "            TELEPHONE_INPUT.send_keys(telephone)\n",
    "    \n",
    "    except:\n",
    "        assert False, \"You may not in the correct page\""
   ]
  },
  {
   "cell_type": "markdown",
   "id": "6cf17b35",
   "metadata": {},
   "source": [
    "- Press button to submit"
   ]
  },
  {
   "cell_type": "code",
   "execution_count": 13,
   "id": "ede56d28",
   "metadata": {},
   "outputs": [],
   "source": [
    "def click_edit_personal_button(driver : webdriver.Chrome):\n",
    "    try:\n",
    "        driver.find_element(By.CSS_SELECTOR, \"input.btn.btn-primary\").click()\n",
    "    except:\n",
    "        assert False, \"You might not in the correct page\""
   ]
  },
  {
   "cell_type": "markdown",
   "id": "1fec5599",
   "metadata": {},
   "source": [
    "### Change password"
   ]
  },
  {
   "cell_type": "markdown",
   "id": "af484234",
   "metadata": {},
   "source": [
    "- Go to change password page"
   ]
  },
  {
   "cell_type": "code",
   "execution_count": 14,
   "id": "aa5c64c0",
   "metadata": {},
   "outputs": [],
   "source": [
    "def go_to_edit_password(driver : webdriver.Chrome):\n",
    "    # Click the button \"My Account\" on the Navigatino bar\n",
    "    DROPDOWN_ELEMENTS = driver.find_elements(By.CLASS_NAME, \"icon-left.both.nav-link.dropdown-toggle\")\n",
    "    for element in DROPDOWN_ELEMENTS:\n",
    "        if element.text == \"My account\":\n",
    "            element.click()\n",
    "\n",
    "    # Find the \"Register\" button then click it\n",
    "    LIST_GROUP_ITEM = driver.find_elements(By.CLASS_NAME, \"list-group-item\")\n",
    "    for item in LIST_GROUP_ITEM:\n",
    "\n",
    "        if item.text == \"Password\":\n",
    "            item.click()\n",
    "            return\n",
    "\n",
    "        # Assert if the user did not log in\n",
    "        assert item.text != \"Login\", \"You did not log in yet.\""
   ]
  },
  {
   "cell_type": "markdown",
   "id": "e700c045",
   "metadata": {},
   "source": [
    "- Input new password"
   ]
  },
  {
   "cell_type": "code",
   "execution_count": 15,
   "id": "9156494a",
   "metadata": {},
   "outputs": [],
   "source": [
    "# Empty string means do not edit that field\n",
    "def input_edit_password(password : str = \"\", confirm_password : str = \"\", driver : webdriver.Chrome = None):\n",
    "    try:\n",
    "        PASSWORD_INPUT = driver.find_element(By.ID, \"input-password\")\n",
    "        if len(password):\n",
    "            PASSWORD_INPUT.clear()\n",
    "            PASSWORD_INPUT.send_keys(password)\n",
    "\n",
    "        CONFIRM_PASSWORD_INPUT = driver.find_element(By.ID, \"input-confirm\")\n",
    "        if len(confirm_password):\n",
    "            CONFIRM_PASSWORD_INPUT.clear()\n",
    "            CONFIRM_PASSWORD_INPUT.send_keys(confirm_password)\n",
    "    \n",
    "    except:\n",
    "        assert False, \"You may not in the correct page\""
   ]
  },
  {
   "cell_type": "markdown",
   "id": "1d551540",
   "metadata": {},
   "source": [
    "- Press button to submit"
   ]
  },
  {
   "cell_type": "code",
   "execution_count": 16,
   "id": "921852c5",
   "metadata": {},
   "outputs": [],
   "source": [
    "def click_edit_password_button(driver : webdriver.Chrome):\n",
    "    try:\n",
    "        driver.find_element(By.CSS_SELECTOR, \"input.btn.btn-primary\").click()\n",
    "    except:\n",
    "        assert False, \"You might not in the correct page\""
   ]
  },
  {
   "cell_type": "markdown",
   "id": "510ad2ef",
   "metadata": {},
   "source": [
    "### Change newsletter subscription"
   ]
  },
  {
   "cell_type": "markdown",
   "id": "62087cae",
   "metadata": {},
   "source": [
    "- Go to newsletter page"
   ]
  },
  {
   "cell_type": "code",
   "execution_count": 17,
   "id": "da848562",
   "metadata": {},
   "outputs": [],
   "source": [
    "def go_to_edit_newsletter(driver: webdriver.Chrome):\n",
    "    # Click the button \"My Account\" on the Navigatino bar\n",
    "    DROPDOWN_ELEMENTS = driver.find_elements(By.CLASS_NAME, \"icon-left.both.nav-link.dropdown-toggle\")\n",
    "    for element in DROPDOWN_ELEMENTS:\n",
    "        if element.text == \"My account\":\n",
    "            element.click()\n",
    "\n",
    "    # Find the \"Register\" button then click it\n",
    "    LIST_GROUP_ITEM = driver.find_elements(By.CLASS_NAME, \"list-group-item\")\n",
    "    for item in LIST_GROUP_ITEM:\n",
    "\n",
    "        if item.text == \"Newsletter\":\n",
    "            item.click()\n",
    "            return\n",
    "\n",
    "        # Assert if the user did not log in\n",
    "        assert item.text != \"Login\", \"You did not log in yet.\""
   ]
  },
  {
   "cell_type": "markdown",
   "id": "122d83b6",
   "metadata": {},
   "source": [
    "- Change the value of subscription"
   ]
  },
  {
   "cell_type": "code",
   "execution_count": 18,
   "id": "e01cedaa",
   "metadata": {},
   "outputs": [],
   "source": [
    "def input_edit_newsletter(subscription : bool, driver : webdriver.Chrome):\n",
    "    try:\n",
    "        driver.find_element(By.CSS_SELECTOR, \"label.custom-control-label[for='input-newsletter-yes']\" if subscription \n",
    "                            else \"label.custom-control-label[for='input-newsletter-no']\").click()\n",
    "    except:\n",
    "        assert False, \"You might not in the correct page\""
   ]
  },
  {
   "cell_type": "markdown",
   "id": "bd392d9f",
   "metadata": {},
   "source": [
    "- Press button to submit"
   ]
  },
  {
   "cell_type": "code",
   "execution_count": 19,
   "id": "badd2144",
   "metadata": {},
   "outputs": [],
   "source": [
    "def click_edit_newsletter(driver : webdriver.Chrome):\n",
    "    try:\n",
    "        driver.find_element(By.CSS_SELECTOR, \"input.btn.btn-primary\").click()\n",
    "    except:\n",
    "        assert False, \"You might not in the correct page\""
   ]
  },
  {
   "cell_type": "markdown",
   "id": "e838d11c",
   "metadata": {},
   "source": [
    "### Combine them together"
   ]
  },
  {
   "cell_type": "code",
   "execution_count": 20,
   "id": "a8f31bdb",
   "metadata": {},
   "outputs": [],
   "source": [
    "def edit_account_information(first_name : str = \"\", last_name : str = \"\", email : str = \"\", telephone : str = \"\",\n",
    "                             password : str = \"\", confirm_password : str = \"\", subscription : bool = True, \n",
    "                             driver : webdriver.Chrome = None):\n",
    "    # Edit personal information\n",
    "    go_to_edit_personal(driver)\n",
    "    input_edit_personal(first_name, last_name, email, telephone, driver)\n",
    "    click_edit_personal_button(driver)\n",
    "\n",
    "    # Change password\n",
    "    go_to_edit_password(driver)\n",
    "    input_edit_password(password, confirm_password, driver)\n",
    "    click_edit_password_button(driver)\n",
    "\n",
    "    # Update newsletter subscription\n",
    "    go_to_edit_newsletter(driver)\n",
    "    input_edit_newsletter(subscription, driver)\n",
    "    click_edit_newsletter(driver)"
   ]
  },
  {
   "cell_type": "markdown",
   "id": "130418ac",
   "metadata": {},
   "source": [
    "---"
   ]
  },
  {
   "cell_type": "markdown",
   "id": "ebc68c76",
   "metadata": {},
   "source": [
    "## Test the writing review function"
   ]
  },
  {
   "cell_type": "markdown",
   "id": "bf09161b",
   "metadata": {},
   "source": [
    "### Write review function\n",
    "- Input information and the review text"
   ]
  },
  {
   "cell_type": "code",
   "execution_count": 21,
   "id": "8ada3428",
   "metadata": {},
   "outputs": [],
   "source": [
    "def write_review_information(score: int, name: str, text: str, driver: webdriver.Chrome):\n",
    "    SCORE_INT = int(score)\n",
    "\n",
    "    assert 0 < SCORE_INT < 6, \"Score must be between 1 and 5\"\n",
    "    assert driver is not None, \"Driver must not be None\"\n",
    "    \n",
    "    RATING_SCORE_ID = [\"rating-1-216860\", \"rating-2-216860\", \"rating-3-216860\", \"rating-4-216860\", \"rating-5-216860\"]\n",
    "    RATING_SCORE = driver.find_element(By.CSS_SELECTOR, f\"label[for='{RATING_SCORE_ID[SCORE_INT-1]}']\")\n",
    "    RATING_SCORE.click()\n",
    "\n",
    "    INPUT_NAME = driver.find_element(By.ID, \"input-name\")\n",
    "    INPUT_NAME.clear()\n",
    "    INPUT_NAME.send_keys(name)\n",
    "\n",
    "    INPUT_REVIEW = driver.find_element(By.ID, \"input-review\")\n",
    "    INPUT_REVIEW.clear()\n",
    "    INPUT_REVIEW.send_keys(text)"
   ]
  },
  {
   "cell_type": "markdown",
   "id": "0b652c29",
   "metadata": {},
   "source": [
    "### Clicking Submit Button\n",
    "- This function returns the submission alert of the review"
   ]
  },
  {
   "cell_type": "code",
   "execution_count": 22,
   "id": "678b300a",
   "metadata": {},
   "outputs": [],
   "source": [
    "def submit_review(driver: webdriver.Chrome):\n",
    "    assert driver is not None, \"Driver must not be None\"\n",
    "    \n",
    "    SUBMIT_BUTTON = driver.find_element(By.ID, \"button-review\")\n",
    "    SUBMIT_BUTTON.click()\n",
    "\n",
    "    time.sleep(0.4)  # Wait for the alert message to appear\n",
    "\n",
    "    try:\n",
    "        ALERT_MESSAGE = driver.find_element(By.CSS_SELECTOR, \"div.alert.alert-danger.alert-dismissible\")\n",
    "    except:\n",
    "        ALERT_MESSAGE = driver.find_element(By.CSS_SELECTOR, \"div.alert.alert-success.alert-dismissible\")\n",
    "        \n",
    "    return ALERT_MESSAGE.text"
   ]
  },
  {
   "cell_type": "markdown",
   "id": "b9473c23",
   "metadata": {},
   "source": [
    "## Combine the two functions"
   ]
  },
  {
   "cell_type": "code",
   "execution_count": 69,
   "id": "41faebb7",
   "metadata": {},
   "outputs": [],
   "source": [
    "def write_review(score: int, name: str, text: str, driver: webdriver.Chrome):\n",
    "    write_review_information(score, name, text, driver)\n",
    "    time.sleep(2)\n",
    "    return(submit_review(driver))"
   ]
  },
  {
   "cell_type": "markdown",
   "id": "79b8d28d",
   "metadata": {},
   "source": [
    "### Click every product on the search page and write a review"
   ]
  },
  {
   "cell_type": "code",
   "execution_count": 51,
   "id": "b7dc0bad",
   "metadata": {},
   "outputs": [],
   "source": [
    "import random\n",
    "\n",
    "def click_and_review_products(reviewer_name : str = \"My name\", number_of_product : int = 3, driver : webdriver.Chrome = None):\n",
    "    try:\n",
    "        PRODUCT_ELEMENTS = driver.find_elements(By.CLASS_NAME, \"text-ellipsis-2\")\n",
    "    except:\n",
    "        PRODUCT_ELEMENTS = driver.find_elements(By.CLASS_NAME, \"carousel.d-block.slide\")\n",
    "\n",
    "    TEXTS = [\"I hate this product so much that I have to write this review.\", \"I don't like this product at all.\", \n",
    "             \"I have no good or bad feeling about this product.\", \"This product is good, I like it may buy it again.\",\n",
    "             \"I love this product, you guys should try it.\"]\n",
    "    \n",
    "    for element in PRODUCT_ELEMENTS:\n",
    "        if element.is_displayed():\n",
    "            SCORE = random.randint(1, 5)\n",
    "\n",
    "            element.click()\n",
    "            write_review(SCORE, reviewer_name, TEXTS[SCORE-1], driver)\n",
    "            \n",
    "            time.sleep(2)\n",
    "            driver.back()\n",
    "            \n",
    "            number_of_product -= 1\n",
    "            if number_of_product == 0:\n",
    "                return\n",
    "            "
   ]
  },
  {
   "cell_type": "markdown",
   "id": "d6f2d901",
   "metadata": {},
   "source": [
    "---"
   ]
  },
  {
   "cell_type": "markdown",
   "id": "388095d9",
   "metadata": {},
   "source": [
    "## Test the Adding to Cart and Checkout Function\n",
    "### The inputs needed to be tested include:\n",
    "- Navigate to the \"https://ecommerce-playground.lambdatest.io/index.php?route=product/manufacturer/info&manufacturer_id=8&mz_fss=-1\" page\n",
    "- Click the button \"Add to Cart\"\n",
    "- Choose the preferred size (Large)\n",
    "- Click the button \"Add to Cart\"\n",
    "- Click the button \"View Cart\"\n",
    "- Click the \"Use Coupon Code\" button\n",
    "- Entering \"We are the UTS students\" in the box\n",
    "- Click the Coupon button\n",
    "- Click the \"Estimating Shipping & Taxes\" button\n",
    "- Choose country as \"Australia\"\n",
    "- Choose region as \"New South Wales\"\n",
    "- Choose Postcode as \"2007\"\n",
    "- Click the \"Get Quote\" button\n",
    "- Click the \"Option of Flat Rate\" checkbox\n",
    "- Click the \"Apply Shipping\" button\n",
    "- Click the \"Gift Certificate\" button\n",
    "- Entering \"UTS1002\" in the box\n",
    "- Click the Voucher button\n",
    "- Click the Checkout button\n",
    "\n",
    "## The output is:\n",
    "- The alert about the \"Invalid Coupon\"\n",
    "- The alert about the \"Invalid Voucher\"\n",
    "- The alert about the \"Out of Stock\" => This is the failure of the program when it gives the alert while the products are in the \"In Stock\" Category."
   ]
  },
  {
   "cell_type": "code",
   "execution_count": 25,
   "id": "bb1c894b",
   "metadata": {},
   "outputs": [],
   "source": [
    "def gift_certification_F(giftcode: str, driver: webdriver.Chrome):\n",
    "    #TODO: Use the \"Gift Certificate\" + Fill in the box\n",
    "    gift_certificate = driver.find_element(By.XPATH, \"//h5[contains(text(), 'Use Gift Certificate')]\")\n",
    "    driver.execute_script(\"arguments[0].click()\", gift_certificate)\n",
    "    time.sleep(1) #Wait for the box appear\n",
    "    voucher = driver.find_element(By.ID, \"input-voucher\")\n",
    "    voucher.send_keys(giftcode)\n",
    "    #time.sleep(2)\n",
    "\n",
    "    #TODO: Click the button of the \"Gift Certificate\"\n",
    "    button_voucher = driver.find_element(By.ID, \"button-voucher\")\n",
    "    driver.execute_script(\"arguments[0].click()\", button_voucher)\n",
    "    #! It will appear the invalid voucher\n",
    "\n",
    "    #TODO: Enter the \"Check-out\" button\n",
    "    button_checkout = driver.find_element(By.XPATH, \"//a[contains(text(), 'Checkout')]\")\n",
    "    driver.execute_script(\"arguments[0].click()\", button_checkout)\n",
    "    #! Invalid because it does not adapt the quality (the minimum is 2 but cannot buy)"
   ]
  },
  {
   "cell_type": "code",
   "execution_count": 26,
   "id": "97b16097",
   "metadata": {},
   "outputs": [],
   "source": [
    "def shopping_tax_F (driver: webdriver.Chrome):\n",
    "    #TODO: Enter “Estimate Shipping & Taxes”\n",
    "    shipping_taxes = driver.find_element(By.XPATH, \"//h5[contains(text(), 'Estimate Shipping')]\") #? XPATH used to locate the element in the HTML files\n",
    "    driver.execute_script(\"arguments[0].click()\", shipping_taxes)\n",
    "    time.sleep(1) #Wait for the box appear\n",
    "\n",
    "    #TODO: Choose Country + Region + Postcode\n",
    "    input_country = driver.find_element(By.ID, \"input-country\")\n",
    "    select_country = Select(input_country)\n",
    "    select_country.select_by_value(\"13\")\n",
    "    time.sleep(1) #! I do not know why putting this, because if I do not put this the program cannot run\n",
    "\n",
    "    input_state = driver.find_element(By.ID, \"input-zone\")\n",
    "    select_state = Select(input_state)\n",
    "    select_state.select_by_value(\"192\")\n",
    "\n",
    "    input_postcode = driver.find_element(By.ID, \"input-postcode\")\n",
    "    input_postcode.send_keys(\"2007\")\n",
    "\n",
    "    #TODO: Enter the \"Get Quote\"\n",
    "    button_quote = driver.find_element(By.ID, \"button-quote\")\n",
    "    driver.execute_script(\"arguments[0].click()\", button_quote)\n",
    "    time.sleep(1) # Need the time for waiting to lead the table\n",
    "\n",
    "\n",
    "    #TODO: Click “Option of Flat Rate” (if any)\n",
    "    shipping_method = driver.find_element(By.NAME, \"shipping_method\")\n",
    "    driver.execute_script(\"arguments[0].click()\", shipping_method)\n",
    "    time.sleep(1)\n",
    "    #TODO: Click the button \"Apply Shipping\"\n",
    "    button_shipping = driver.find_element(By.ID, \"button-shipping\")\n",
    "    driver.execute_script(\"arguments[0].click()\", button_shipping)\n",
    "    time.sleep(3)"
   ]
  },
  {
   "cell_type": "code",
   "execution_count": 27,
   "id": "9e9aa9dd",
   "metadata": {},
   "outputs": [],
   "source": [
    "def coupon(coupon_code: str, driver: webdriver.Chrome):\n",
    "    # TODO: \"Use Coupon Code\" + Fill the string into the blank box + Apply Coupon\n",
    "    coupon_header = driver.find_element(By.CSS_SELECTOR, \"h5[data-toggle='collapse'].card-header\")\n",
    "    driver.execute_script(\"arguments[0].click()\", coupon_header)\n",
    "    time.sleep(1) #Wait for the box appear\n",
    "\n",
    "    input_coupon = driver.find_element(By.ID, \"input-coupon\")\n",
    "    input_coupon.send_keys(coupon_code)\n",
    "\n",
    "    apply_coupon = driver.find_element(By.ID, \"button-coupon\")\n",
    "    driver.execute_script(\"arguments[0].click()\", apply_coupon)\n",
    "    time.sleep(1)\n",
    "    #! It will appear the invalid coupon\n"
   ]
  },
  {
   "cell_type": "code",
   "execution_count": 28,
   "id": "93359701",
   "metadata": {},
   "outputs": [],
   "source": [
    "def privilege_shopping (have_coupon: bool, coupon_code: str, shopping_tax: bool, gift_certification: bool, gift_code: str, driver: webdriver.Chrome):\n",
    "    if (have_coupon == True):\n",
    "        coupon(coupon_code, driver)\n",
    "    \n",
    "    if (shopping_tax == True):\n",
    "        shopping_tax_F(driver)\n",
    "    \n",
    "    if (gift_certification == True):\n",
    "        gift_certification_F(gift_code, driver)\n"
   ]
  },
  {
   "cell_type": "code",
   "execution_count": null,
   "id": "8befd1b4",
   "metadata": {},
   "outputs": [],
   "source": [
    "def addingCart_checkOut (product_size: str, driver: webdriver.Chrome):\n",
    "    # TODO: Click the button \"Add to Cart\"\n",
    "    #! will error because can click for the “Out of stock”\n",
    "    add_to_cart_button = driver.find_element(By.CSS_SELECTOR, \"button[title='Add to Cart'].btn.btn-cart.cart-42\")\n",
    "    driver.execute_script(\"arguments[0].click()\", add_to_cart_button)\n",
    "    time.sleep(2) # Waiting for loading the product\n",
    "\n",
    "    #TODO: Choose the size \n",
    "    # <select name=\"option[231]\" id=\"input-option231-212958\" class=\"custom-select\"> <option value=\"\"> --- Please Select --- </option> <option value=\"35\">Medium\n",
    "    products_size_driver = driver.find_element(By.ID, \"input-option231-212958\")\n",
    "    select_products_size = Select(products_size_driver)\n",
    "    select_products_size.select_by_value(product_size) # THE LARGE ONE\n",
    "    time.sleep(1)\n",
    "\n",
    "    #TODO: Add the button \"Add to Cart\" again\n",
    "    add_to_cart_button_2 = driver.find_element(By.CSS_SELECTOR, \"button[title='Add to Cart'].text.btn.btn-cart.cart-42\")\n",
    "    driver.execute_script(\"arguments[0].click()\", add_to_cart_button_2)\n",
    "    time.sleep(2) # Waiting for loading the product\n",
    "\n",
    "    # TODO: Click the button “View Cart”\n",
    "    view_cart = driver.find_element(By.CSS_SELECTOR, \"a.btn.btn-primary.btn-block\")\n",
    "    driver.execute_script(\"arguments[0].click()\", view_cart)\n",
    "    time.sleep(2)\n",
    "    "
   ]
  },
  {
   "cell_type": "code",
   "execution_count": null,
   "id": "7bdaf30b",
   "metadata": {},
   "outputs": [],
   "source": [
    "def shoppingCart_checkOut_Test(product_size: str, have_coupon: bool, coupon_code: str, shopping_tax: bool, gift_certification: bool, gift_code: str, driver: webdriver.Chrome):\n",
    "    addingCart_checkOut(product_size, driver)\n",
    "    privilege_shopping(have_coupon, coupon_code, shopping_tax, gift_certification, gift_code, driver)"
   ]
  },
  {
   "cell_type": "code",
   "execution_count": null,
   "id": "774f4bb7",
   "metadata": {},
   "outputs": [],
   "source": [
    "driver.get(\"https://ecommerce-playground.lambdatest.io/index.php?route=product/manufacturer/info&manufacturer_id=8&mz_fss=-1\")\n",
    "\n",
    "shoppingCart_checkOut_Test (\"34\", True, \"We are the UTS students\", True, True, \"UTS2007\", driver)"
   ]
  },
  {
   "cell_type": "markdown",
   "id": "96f765e7",
   "metadata": {},
   "source": [
    "---"
   ]
  },
  {
   "cell_type": "markdown",
   "id": "d322d988",
   "metadata": {},
   "source": [
    "# All the functions"
   ]
  },
  {
   "cell_type": "markdown",
   "id": "adabe218",
   "metadata": {},
   "source": [
    "## Register"
   ]
  },
  {
   "cell_type": "code",
   "execution_count": 71,
   "id": "2197e6a6",
   "metadata": {},
   "outputs": [
    {
     "name": "stdout",
     "output_type": "stream",
     "text": [
      "Requirement already satisfied: faker in c:\\users\\pham le nam\\desktop\\githubs\\31282-systems-testing-and-quality-management\\.venv\\lib\\site-packages (37.11.0)\n",
      "Requirement already satisfied: tzdata in c:\\users\\pham le nam\\desktop\\githubs\\31282-systems-testing-and-quality-management\\.venv\\lib\\site-packages (from faker) (2025.2)\n",
      "Note: you may need to restart the kernel to use updated packages.\n"
     ]
    }
   ],
   "source": [
    "# Download this function to generate random name\n",
    "%pip install faker"
   ]
  },
  {
   "cell_type": "code",
   "execution_count": 72,
   "id": "2252caea",
   "metadata": {},
   "outputs": [],
   "source": [
    "import string\n",
    "\n",
    "def generate_password():\n",
    "    chars = string.ascii_letters + string.digits + string.punctuation\n",
    "\n",
    "    password = ''.join(random.choice(chars) for _ in range(12))\n",
    "\n",
    "    return password"
   ]
  },
  {
   "cell_type": "code",
   "execution_count": 73,
   "id": "4cc1cb59",
   "metadata": {},
   "outputs": [],
   "source": [
    "from faker import Faker\n",
    "\n",
    "fake_name_1 = Faker()\n",
    "fake_first_name_1 = fake_name_1.first_name()\n",
    "fake_last_name_1 = fake_name_1.last_name()\n",
    "fake_email_1 = f\"{fake_first_name_1}.{fake_last_name_1}{random.randint(0,9999):04d}@mymail.com\"\n",
    "fake_telephone_1 = f\"04{random.randint(0,99999999):08d}\"\n",
    "fake_password_1 =  generate_password()\n",
    "fake_confirm_1 = fake_password_1\n",
    "newsletter_1 = True"
   ]
  },
  {
   "cell_type": "markdown",
   "id": "76cc199b",
   "metadata": {},
   "source": [
    "### Test register"
   ]
  },
  {
   "cell_type": "code",
   "execution_count": 74,
   "id": "a5719b1c",
   "metadata": {},
   "outputs": [
    {
     "name": "stdout",
     "output_type": "stream",
     "text": [
      "https://ecommerce-playground.lambdatest.io/index.php?route=account/account\n"
     ]
    },
    {
     "ename": "NoSuchElementException",
     "evalue": "Message: no such element: Unable to locate element: {\"method\":\"css selector\",\"selector\":\"[id=\"input-firstname\"]\"}\n  (Session info: chrome=141.0.7390.108); For documentation on this error, please visit: https://www.selenium.dev/documentation/webdriver/troubleshooting/errors#nosuchelementexception\nStacktrace:\n\tGetHandleVerifier [0x0x7ff7f7f6e9e5+80021]\n\tGetHandleVerifier [0x0x7ff7f7f6ea40+80112]\n\t(No symbol) [0x0x7ff7f7cf060f]\n\t(No symbol) [0x0x7ff7f7d48854]\n\t(No symbol) [0x0x7ff7f7d48b1c]\n\t(No symbol) [0x0x7ff7f7d9c927]\n\t(No symbol) [0x0x7ff7f7d7126f]\n\t(No symbol) [0x0x7ff7f7d9968a]\n\t(No symbol) [0x0x7ff7f7d71003]\n\t(No symbol) [0x0x7ff7f7d395d1]\n\t(No symbol) [0x0x7ff7f7d3a3f3]\n\tGetHandleVerifier [0x0x7ff7f822dd8d+2960445]\n\tGetHandleVerifier [0x0x7ff7f822804a+2936570]\n\tGetHandleVerifier [0x0x7ff7f8248a87+3070263]\n\tGetHandleVerifier [0x0x7ff7f7f884ce+185214]\n\tGetHandleVerifier [0x0x7ff7f7f8ff1f+216527]\n\tGetHandleVerifier [0x0x7ff7f7f77c24+117460]\n\tGetHandleVerifier [0x0x7ff7f7f77ddf+117903]\n\tGetHandleVerifier [0x0x7ff7f7f5dcb8+11112]\n\tBaseThreadInitThunk [0x0x7ffb39d6e8d7+23]\n\tRtlUserThreadStart [0x0x7ffb3b3ec53c+44]\n",
     "output_type": "error",
     "traceback": [
      "\u001b[31m---------------------------------------------------------------------------\u001b[39m",
      "\u001b[31mNoSuchElementException\u001b[39m                    Traceback (most recent call last)",
      "\u001b[36mCell\u001b[39m\u001b[36m \u001b[39m\u001b[32mIn[74]\u001b[39m\u001b[32m, line 1\u001b[39m\n\u001b[32m----> \u001b[39m\u001b[32m1\u001b[39m \u001b[43mRegister\u001b[49m\u001b[43m(\u001b[49m\u001b[43mfake_first_name_1\u001b[49m\u001b[43m,\u001b[49m\u001b[43m \u001b[49m\u001b[43mfake_last_name_1\u001b[49m\u001b[43m,\u001b[49m\u001b[43m \u001b[49m\u001b[43mfake_email_1\u001b[49m\u001b[43m,\u001b[49m\u001b[43m \u001b[49m\u001b[43mfake_telephone_1\u001b[49m\u001b[43m,\u001b[49m\u001b[43m \u001b[49m\u001b[43mfake_password_1\u001b[49m\u001b[43m,\u001b[49m\u001b[43m \u001b[49m\u001b[43mfake_confirm_1\u001b[49m\u001b[43m,\u001b[49m\u001b[43m \u001b[49m\u001b[43mnewsletter_1\u001b[49m\u001b[43m,\u001b[49m\u001b[43m \u001b[49m\u001b[38;5;28;43;01mTrue\u001b[39;49;00m\u001b[43m,\u001b[49m\u001b[43m \u001b[49m\u001b[38;5;28;43;01mTrue\u001b[39;49;00m\u001b[43m,\u001b[49m\u001b[43m \u001b[49m\u001b[43mdriver\u001b[49m\u001b[43m)\u001b[49m\n",
      "\u001b[36mCell\u001b[39m\u001b[36m \u001b[39m\u001b[32mIn[2]\u001b[39m\u001b[32m, line 10\u001b[39m, in \u001b[36mRegister\u001b[39m\u001b[34m(firstname, lastname, email, phone_number, password, confirmed_password, input_newsletter, policy_requirement, confirm_button, driver)\u001b[39m\n\u001b[32m      7\u001b[39m url = driver.current_url\n\u001b[32m      8\u001b[39m \u001b[38;5;28mprint\u001b[39m(url) \u001b[38;5;66;03m#* Check successfully\u001b[39;00m\n\u001b[32m---> \u001b[39m\u001b[32m10\u001b[39m input_first_name = \u001b[43mdriver\u001b[49m\u001b[43m.\u001b[49m\u001b[43mfind_element\u001b[49m\u001b[43m(\u001b[49m\u001b[43mBy\u001b[49m\u001b[43m.\u001b[49m\u001b[43mID\u001b[49m\u001b[43m,\u001b[49m\u001b[43m \u001b[49m\u001b[33;43m\"\u001b[39;49m\u001b[33;43minput-firstname\u001b[39;49m\u001b[33;43m\"\u001b[39;49m\u001b[43m)\u001b[49m\n\u001b[32m     11\u001b[39m \u001b[38;5;28;01massert\u001b[39;00m input_first_name \u001b[38;5;129;01mis\u001b[39;00m \u001b[38;5;129;01mnot\u001b[39;00m \u001b[38;5;28;01mNone\u001b[39;00m \u001b[38;5;66;03m#* To check whether the ID exists or not\u001b[39;00m\n\u001b[32m     12\u001b[39m input_first_name.send_keys(firstname)\n",
      "\u001b[36mFile \u001b[39m\u001b[32mc:\\Users\\PHAM LE NAM\\Desktop\\GitHubs\\31282-Systems-Testing-and-Quality-Management\\.venv\\Lib\\site-packages\\selenium\\webdriver\\remote\\webdriver.py:926\u001b[39m, in \u001b[36mWebDriver.find_element\u001b[39m\u001b[34m(self, by, value)\u001b[39m\n\u001b[32m    923\u001b[39m         \u001b[38;5;28;01mraise\u001b[39;00m NoSuchElementException(\u001b[33mf\u001b[39m\u001b[33m\"\u001b[39m\u001b[33mCannot locate relative element with: \u001b[39m\u001b[38;5;132;01m{\u001b[39;00mby.root\u001b[38;5;132;01m}\u001b[39;00m\u001b[33m\"\u001b[39m)\n\u001b[32m    924\u001b[39m     \u001b[38;5;28;01mreturn\u001b[39;00m elements[\u001b[32m0\u001b[39m]\n\u001b[32m--> \u001b[39m\u001b[32m926\u001b[39m \u001b[38;5;28;01mreturn\u001b[39;00m \u001b[38;5;28;43mself\u001b[39;49m\u001b[43m.\u001b[49m\u001b[43mexecute\u001b[49m\u001b[43m(\u001b[49m\u001b[43mCommand\u001b[49m\u001b[43m.\u001b[49m\u001b[43mFIND_ELEMENT\u001b[49m\u001b[43m,\u001b[49m\u001b[43m \u001b[49m\u001b[43m{\u001b[49m\u001b[33;43m\"\u001b[39;49m\u001b[33;43musing\u001b[39;49m\u001b[33;43m\"\u001b[39;49m\u001b[43m:\u001b[49m\u001b[43m \u001b[49m\u001b[43mby\u001b[49m\u001b[43m,\u001b[49m\u001b[43m \u001b[49m\u001b[33;43m\"\u001b[39;49m\u001b[33;43mvalue\u001b[39;49m\u001b[33;43m\"\u001b[39;49m\u001b[43m:\u001b[49m\u001b[43m \u001b[49m\u001b[43mvalue\u001b[49m\u001b[43m}\u001b[49m\u001b[43m)\u001b[49m[\u001b[33m\"\u001b[39m\u001b[33mvalue\u001b[39m\u001b[33m\"\u001b[39m]\n",
      "\u001b[36mFile \u001b[39m\u001b[32mc:\\Users\\PHAM LE NAM\\Desktop\\GitHubs\\31282-Systems-Testing-and-Quality-Management\\.venv\\Lib\\site-packages\\selenium\\webdriver\\remote\\webdriver.py:458\u001b[39m, in \u001b[36mWebDriver.execute\u001b[39m\u001b[34m(self, driver_command, params)\u001b[39m\n\u001b[32m    455\u001b[39m response = cast(RemoteConnection, \u001b[38;5;28mself\u001b[39m.command_executor).execute(driver_command, params)\n\u001b[32m    457\u001b[39m \u001b[38;5;28;01mif\u001b[39;00m response:\n\u001b[32m--> \u001b[39m\u001b[32m458\u001b[39m     \u001b[38;5;28;43mself\u001b[39;49m\u001b[43m.\u001b[49m\u001b[43merror_handler\u001b[49m\u001b[43m.\u001b[49m\u001b[43mcheck_response\u001b[49m\u001b[43m(\u001b[49m\u001b[43mresponse\u001b[49m\u001b[43m)\u001b[49m\n\u001b[32m    459\u001b[39m     response[\u001b[33m\"\u001b[39m\u001b[33mvalue\u001b[39m\u001b[33m\"\u001b[39m] = \u001b[38;5;28mself\u001b[39m._unwrap_value(response.get(\u001b[33m\"\u001b[39m\u001b[33mvalue\u001b[39m\u001b[33m\"\u001b[39m, \u001b[38;5;28;01mNone\u001b[39;00m))\n\u001b[32m    460\u001b[39m     \u001b[38;5;28;01mreturn\u001b[39;00m response\n",
      "\u001b[36mFile \u001b[39m\u001b[32mc:\\Users\\PHAM LE NAM\\Desktop\\GitHubs\\31282-Systems-Testing-and-Quality-Management\\.venv\\Lib\\site-packages\\selenium\\webdriver\\remote\\errorhandler.py:232\u001b[39m, in \u001b[36mErrorHandler.check_response\u001b[39m\u001b[34m(self, response)\u001b[39m\n\u001b[32m    230\u001b[39m         alert_text = value[\u001b[33m\"\u001b[39m\u001b[33malert\u001b[39m\u001b[33m\"\u001b[39m].get(\u001b[33m\"\u001b[39m\u001b[33mtext\u001b[39m\u001b[33m\"\u001b[39m)\n\u001b[32m    231\u001b[39m     \u001b[38;5;28;01mraise\u001b[39;00m exception_class(message, screen, stacktrace, alert_text)  \u001b[38;5;66;03m# type: ignore[call-arg]  # mypy is not smart enough here\u001b[39;00m\n\u001b[32m--> \u001b[39m\u001b[32m232\u001b[39m \u001b[38;5;28;01mraise\u001b[39;00m exception_class(message, screen, stacktrace)\n",
      "\u001b[31mNoSuchElementException\u001b[39m: Message: no such element: Unable to locate element: {\"method\":\"css selector\",\"selector\":\"[id=\"input-firstname\"]\"}\n  (Session info: chrome=141.0.7390.108); For documentation on this error, please visit: https://www.selenium.dev/documentation/webdriver/troubleshooting/errors#nosuchelementexception\nStacktrace:\n\tGetHandleVerifier [0x0x7ff7f7f6e9e5+80021]\n\tGetHandleVerifier [0x0x7ff7f7f6ea40+80112]\n\t(No symbol) [0x0x7ff7f7cf060f]\n\t(No symbol) [0x0x7ff7f7d48854]\n\t(No symbol) [0x0x7ff7f7d48b1c]\n\t(No symbol) [0x0x7ff7f7d9c927]\n\t(No symbol) [0x0x7ff7f7d7126f]\n\t(No symbol) [0x0x7ff7f7d9968a]\n\t(No symbol) [0x0x7ff7f7d71003]\n\t(No symbol) [0x0x7ff7f7d395d1]\n\t(No symbol) [0x0x7ff7f7d3a3f3]\n\tGetHandleVerifier [0x0x7ff7f822dd8d+2960445]\n\tGetHandleVerifier [0x0x7ff7f822804a+2936570]\n\tGetHandleVerifier [0x0x7ff7f8248a87+3070263]\n\tGetHandleVerifier [0x0x7ff7f7f884ce+185214]\n\tGetHandleVerifier [0x0x7ff7f7f8ff1f+216527]\n\tGetHandleVerifier [0x0x7ff7f7f77c24+117460]\n\tGetHandleVerifier [0x0x7ff7f7f77ddf+117903]\n\tGetHandleVerifier [0x0x7ff7f7f5dcb8+11112]\n\tBaseThreadInitThunk [0x0x7ffb39d6e8d7+23]\n\tRtlUserThreadStart [0x0x7ffb3b3ec53c+44]\n"
     ]
    }
   ],
   "source": [
    "Register(fake_first_name_1, fake_last_name_1, fake_email_1, fake_telephone_1, fake_password_1, fake_confirm_1, newsletter_1, True, True, driver)"
   ]
  },
  {
   "cell_type": "markdown",
   "id": "3d9182a5",
   "metadata": {},
   "source": [
    "### Test login with the created account"
   ]
  },
  {
   "cell_type": "code",
   "execution_count": 75,
   "id": "5dd045ee",
   "metadata": {},
   "outputs": [],
   "source": [
    "login(fake_email_1, fake_password_1, driver)"
   ]
  },
  {
   "cell_type": "markdown",
   "id": "f491b40f",
   "metadata": {},
   "source": [
    "### Test edit information"
   ]
  },
  {
   "cell_type": "markdown",
   "id": "8229aadd",
   "metadata": {},
   "source": [
    "- Generate new information"
   ]
  },
  {
   "cell_type": "code",
   "execution_count": null,
   "id": "fa05836e",
   "metadata": {},
   "outputs": [],
   "source": [
    "fake_name_2 = Faker()\n",
    "fake_first_name_2 = fake_name_2.first_name()\n",
    "fake_last_name_2 = fake_name_2.last_name()\n",
    "fake_email_2 = f\"{fake_first_name_2}.{fake_last_name_2}{random.randint(0,9999):04d}@mymail.com\"\n",
    "fake_telephone_2 = f\"04{random.randint(0,99999999):08d}\"\n",
    "fake_password_2 =  generate_password()\n",
    "fake_confirm_2 = fake_password_2\n",
    "newsletter_2 = False"
   ]
  },
  {
   "cell_type": "markdown",
   "id": "da32bd6b",
   "metadata": {},
   "source": [
    "- Edit information"
   ]
  },
  {
   "cell_type": "code",
   "execution_count": null,
   "id": "493f39c3",
   "metadata": {},
   "outputs": [],
   "source": [
    "edit_account_information(fake_first_name_2, fake_last_name_2, fake_email_2, fake_telephone_2, fake_password_2, fake_confirm_2, newsletter_2, driver)"
   ]
  },
  {
   "cell_type": "markdown",
   "id": "12e3ef21",
   "metadata": {},
   "source": [
    "- Logout and tried to log in with the old and new information"
   ]
  },
  {
   "cell_type": "code",
   "execution_count": 77,
   "id": "006cdcc1",
   "metadata": {},
   "outputs": [],
   "source": [
    "login(fake_email_1, fake_password_1, driver)\n",
    "login(fake_email_2, fake_password_2, driver)"
   ]
  },
  {
   "cell_type": "markdown",
   "id": "6718c5e0",
   "metadata": {},
   "source": [
    "### Test searching function"
   ]
  },
  {
   "cell_type": "code",
   "execution_count": 78,
   "id": "6d9a40ac",
   "metadata": {},
   "outputs": [],
   "source": [
    "Search_Test(\"a\", \"\", True, True, True, \"50\", driver)"
   ]
  },
  {
   "cell_type": "markdown",
   "id": "28447378",
   "metadata": {},
   "source": [
    "### Click into the first n product and write review"
   ]
  },
  {
   "cell_type": "code",
   "execution_count": 79,
   "id": "799e630c",
   "metadata": {},
   "outputs": [],
   "source": [
    "click_and_review_products(reviewer_name=f\"{fake_first_name_2} {fake_last_name_2}\", number_of_product=10, driver=driver)"
   ]
  },
  {
   "cell_type": "markdown",
   "id": "057b76d5",
   "metadata": {},
   "source": [
    "### Adding to cart function"
   ]
  },
  {
   "cell_type": "markdown",
   "id": "9509502c",
   "metadata": {},
   "source": [
    "# Close the webdriver"
   ]
  },
  {
   "cell_type": "code",
   "execution_count": 53,
   "id": "a11b3124",
   "metadata": {},
   "outputs": [],
   "source": [
    "driver.quit()"
   ]
  }
 ],
 "metadata": {
  "kernelspec": {
   "display_name": ".venv",
   "language": "python",
   "name": "python3"
  },
  "language_info": {
   "codemirror_mode": {
    "name": "ipython",
    "version": 3
   },
   "file_extension": ".py",
   "mimetype": "text/x-python",
   "name": "python",
   "nbconvert_exporter": "python",
   "pygments_lexer": "ipython3",
   "version": "3.11.1"
  }
 },
 "nbformat": 4,
 "nbformat_minor": 5
}

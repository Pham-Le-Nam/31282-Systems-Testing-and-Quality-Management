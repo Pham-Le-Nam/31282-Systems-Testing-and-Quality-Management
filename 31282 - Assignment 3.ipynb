{
 "cells": [
  {
   "cell_type": "markdown",
   "id": "9b2d8a96",
   "metadata": {},
   "source": [
    "# Installing selenium and behave libraries into the environment"
   ]
  },
  {
   "cell_type": "code",
   "execution_count": 7,
   "id": "9b89e316",
   "metadata": {},
   "outputs": [
    {
     "name": "stdout",
     "output_type": "stream",
     "text": [
      "Collecting selenium\n",
      "  Downloading selenium-4.37.0-py3-none-any.whl.metadata (7.5 kB)\n",
      "Collecting behave\n",
      "  Downloading behave-1.3.3-py2.py3-none-any.whl.metadata (10 kB)\n",
      "Collecting urllib3<3.0,>=2.5.0 (from urllib3[socks]<3.0,>=2.5.0->selenium)\n",
      "  Downloading urllib3-2.5.0-py3-none-any.whl.metadata (6.5 kB)\n",
      "Collecting trio<1.0,>=0.31.0 (from selenium)\n",
      "  Downloading trio-0.31.0-py3-none-any.whl.metadata (8.5 kB)\n",
      "Collecting trio-websocket<1.0,>=0.12.2 (from selenium)\n",
      "  Downloading trio_websocket-0.12.2-py3-none-any.whl.metadata (5.1 kB)\n",
      "Collecting certifi>=2025.10.5 (from selenium)\n",
      "  Downloading certifi-2025.10.5-py3-none-any.whl.metadata (2.5 kB)\n",
      "Collecting typing_extensions<5.0,>=4.15.0 (from selenium)\n",
      "  Downloading typing_extensions-4.15.0-py3-none-any.whl.metadata (3.3 kB)\n",
      "Collecting websocket-client<2.0,>=1.8.0 (from selenium)\n",
      "  Downloading websocket_client-1.9.0-py3-none-any.whl.metadata (8.3 kB)\n",
      "Collecting attrs>=23.2.0 (from trio<1.0,>=0.31.0->selenium)\n",
      "  Downloading attrs-25.4.0-py3-none-any.whl.metadata (10 kB)\n",
      "Collecting sortedcontainers (from trio<1.0,>=0.31.0->selenium)\n",
      "  Downloading sortedcontainers-2.4.0-py2.py3-none-any.whl.metadata (10 kB)\n",
      "Collecting idna (from trio<1.0,>=0.31.0->selenium)\n",
      "  Downloading idna-3.11-py3-none-any.whl.metadata (8.4 kB)\n",
      "Collecting outcome (from trio<1.0,>=0.31.0->selenium)\n",
      "  Downloading outcome-1.3.0.post0-py2.py3-none-any.whl.metadata (2.6 kB)\n",
      "Collecting sniffio>=1.3.0 (from trio<1.0,>=0.31.0->selenium)\n",
      "  Downloading sniffio-1.3.1-py3-none-any.whl.metadata (3.9 kB)\n",
      "Collecting wsproto>=0.14 (from trio-websocket<1.0,>=0.12.2->selenium)\n",
      "  Downloading wsproto-1.2.0-py3-none-any.whl.metadata (5.6 kB)\n",
      "Collecting pysocks!=1.5.7,<2.0,>=1.5.6 (from urllib3[socks]<3.0,>=2.5.0->selenium)\n",
      "  Downloading PySocks-1.7.1-py3-none-any.whl.metadata (13 kB)\n",
      "Collecting cucumber-tag-expressions>=4.1.0 (from behave)\n",
      "  Downloading cucumber_tag_expressions-8.0.0-py3-none-any.whl.metadata (4.7 kB)\n",
      "Collecting cucumber-expressions>=17.1.0 (from behave)\n",
      "  Downloading cucumber_expressions-18.0.1-py3-none-any.whl.metadata (2.5 kB)\n",
      "Collecting parse>=1.18.0 (from behave)\n",
      "  Downloading parse-1.20.2-py2.py3-none-any.whl.metadata (22 kB)\n",
      "Collecting parse-type>=0.6.0 (from behave)\n",
      "  Downloading parse_type-0.6.6-py2.py3-none-any.whl.metadata (12 kB)\n",
      "Requirement already satisfied: six>=1.15.0 in /Users/stevennguyen/Library/Python/3.13/lib/python/site-packages (from behave) (1.17.0)\n",
      "Collecting colorama>=0.3.7 (from behave)\n",
      "  Downloading colorama-0.4.6-py2.py3-none-any.whl.metadata (17 kB)\n",
      "Collecting h11<1,>=0.9.0 (from wsproto>=0.14->trio-websocket<1.0,>=0.12.2->selenium)\n",
      "  Downloading h11-0.16.0-py3-none-any.whl.metadata (8.3 kB)\n",
      "Downloading selenium-4.37.0-py3-none-any.whl (9.7 MB)\n",
      "\u001b[2K   \u001b[90m━━━━━━━━━━━━━━━━━━━━━━━━━━━━━━━━━━━━━━━━\u001b[0m \u001b[32m9.7/9.7 MB\u001b[0m \u001b[31m4.2 MB/s\u001b[0m  \u001b[33m0:00:02\u001b[0m eta \u001b[36m0:00:01\u001b[0m\n",
      "\u001b[?25hDownloading trio-0.31.0-py3-none-any.whl (512 kB)\n",
      "Downloading trio_websocket-0.12.2-py3-none-any.whl (21 kB)\n",
      "Downloading typing_extensions-4.15.0-py3-none-any.whl (44 kB)\n",
      "Downloading urllib3-2.5.0-py3-none-any.whl (129 kB)\n",
      "Downloading PySocks-1.7.1-py3-none-any.whl (16 kB)\n",
      "Downloading websocket_client-1.9.0-py3-none-any.whl (82 kB)\n",
      "Downloading behave-1.3.3-py2.py3-none-any.whl (223 kB)\n",
      "Downloading attrs-25.4.0-py3-none-any.whl (67 kB)\n",
      "Downloading certifi-2025.10.5-py3-none-any.whl (163 kB)\n",
      "Downloading colorama-0.4.6-py2.py3-none-any.whl (25 kB)\n",
      "Downloading cucumber_expressions-18.0.1-py3-none-any.whl (20 kB)\n",
      "Downloading cucumber_tag_expressions-8.0.0-py3-none-any.whl (9.7 kB)\n",
      "Downloading outcome-1.3.0.post0-py2.py3-none-any.whl (10 kB)\n",
      "Downloading parse-1.20.2-py2.py3-none-any.whl (20 kB)\n",
      "Downloading parse_type-0.6.6-py2.py3-none-any.whl (27 kB)\n",
      "Downloading sniffio-1.3.1-py3-none-any.whl (10 kB)\n",
      "Downloading wsproto-1.2.0-py3-none-any.whl (24 kB)\n",
      "Downloading h11-0.16.0-py3-none-any.whl (37 kB)\n",
      "Downloading idna-3.11-py3-none-any.whl (71 kB)\n",
      "Downloading sortedcontainers-2.4.0-py2.py3-none-any.whl (29 kB)\n",
      "Installing collected packages: sortedcontainers, parse, websocket-client, urllib3, typing_extensions, sniffio, pysocks, parse-type, idna, h11, cucumber-tag-expressions, cucumber-expressions, colorama, certifi, attrs, wsproto, outcome, behave, trio, trio-websocket, selenium\n",
      "\u001b[2K   \u001b[90m━━━━━━━━━━━━━━━━━━━━━━━━━━━━━━━━━━━━━━━━\u001b[0m \u001b[32m21/21\u001b[0m [selenium]/21\u001b[0m [selenium]\n",
      "\u001b[1A\u001b[2KSuccessfully installed attrs-25.4.0 behave-1.3.3 certifi-2025.10.5 colorama-0.4.6 cucumber-expressions-18.0.1 cucumber-tag-expressions-8.0.0 h11-0.16.0 idna-3.11 outcome-1.3.0.post0 parse-1.20.2 parse-type-0.6.6 pysocks-1.7.1 selenium-4.37.0 sniffio-1.3.1 sortedcontainers-2.4.0 trio-0.31.0 trio-websocket-0.12.2 typing_extensions-4.15.0 urllib3-2.5.0 websocket-client-1.9.0 wsproto-1.2.0\n",
      "Note: you may need to restart the kernel to use updated packages.\n"
     ]
    }
   ],
   "source": [
    "%pip install selenium behave"
   ]
  },
  {
   "cell_type": "markdown",
   "id": "13ae7155",
   "metadata": {},
   "source": [
    "# Import webdriver and Launch the website"
   ]
  },
  {
   "cell_type": "code",
   "execution_count": 8,
   "id": "b51cf81b",
   "metadata": {},
   "outputs": [],
   "source": [
    "from selenium import webdriver\n",
    "from selenium.webdriver.common.by import By\n",
    "\n",
    "driver = webdriver.Chrome()\n",
    "driver.get(\"https://ecommerce-playground.lambdatest.io/index.php?route=product%2Fsearch&search=\")\n"
   ]
  },
  {
   "cell_type": "markdown",
   "id": "5df454be",
   "metadata": {},
   "source": [
    "# Testing click function to go to the site of products"
   ]
  },
  {
   "cell_type": "code",
   "execution_count": 4,
   "id": "f5dceb0b",
   "metadata": {},
   "outputs": [],
   "source": [
    "import time\n",
    "\n",
    "def click_products(driver : webdriver.Chrome):\n",
    "    try:\n",
    "        elements = driver.find_elements(By.CLASS_NAME, \"text-ellipsis-2\")\n",
    "    except:\n",
    "        elements = driver.find_elements(By.CLASS_NAME, \"carousel.d-block.slide\")\n",
    "\n",
    "    for element in elements:\n",
    "        element.click()\n",
    "        time.sleep(2)\n",
    "        driver.back()"
   ]
  },
  {
   "cell_type": "markdown",
   "id": "5d96ae59",
   "metadata": {},
   "source": [
    "# Testing the functions"
   ]
  },
  {
   "cell_type": "markdown",
   "id": "4322c01d",
   "metadata": {},
   "source": [
    "## Test the Registration function\n",
    "### The inputs needed to be tested includes:\n",
    "- Navigate to the \"Register\" page\n",
    "- Entering the first name \"Steven\"\n",
    "- Entering the last name \"Nguyen\"\n",
    "- Entering the email address \"MinhTien.Nguyen@student.uts.edu.au\"\n",
    "- Entering the telephone number \"04261922762\"\n",
    "- Entering the password \"bachkhoa\"\n",
    "- Entering the confirmed password \"bachkhoa\"\n",
    "- Click \"Yes\" for the \"Subscribe\" checkbox\n",
    "- Click for the Policy checkbox\n",
    "- Click the \"Continue\" button\n",
    "\n",
    "### The output is:\n",
    "- The program creates the new account successfully"
   ]
  },
  {
   "cell_type": "code",
   "execution_count": 9,
   "id": "f4a36ee0",
   "metadata": {},
   "outputs": [],
   "source": [
    "def Register(firstname: str, lastname: str, email: str, phone_number: str, password: str, confirmed_password: str, \n",
    "             input_newsletter: bool, policy_requirement: bool, confirm_button: bool, driver: webdriver.Chrome ):\n",
    "    \n",
    "    driver.get(\"https://ecommerce-playground.lambdatest.io/index.php?route=account/register\")\n",
    "    url = driver.current_url\n",
    "    print(url) #* Check successfully\n",
    "\n",
    "    input_first_name = driver.find_element(By.ID, \"input-firstname\")\n",
    "    assert input_first_name is not None #* To check whether the ID exists or not\n",
    "    input_first_name.send_keys(firstname)\n",
    "\n",
    "    input_last_name = driver.find_element(By.ID, \"input-lastname\")\n",
    "    assert input_last_name is not None\n",
    "    input_last_name.send_keys(lastname)\n",
    "\n",
    "    input_email = driver.find_element(By.ID, \"input-email\")\n",
    "    assert input_email is not None\n",
    "    input_email.send_keys(email) \n",
    "\n",
    "    input_telephone = driver.find_element(By.ID, \"input-telephone\")\n",
    "    assert input_telephone is not None\n",
    "    input_telephone.send_keys(phone_number) \n",
    "\n",
    "    input_password = driver.find_element(By.ID, \"input-password\")\n",
    "    assert input_password is not None\n",
    "    input_password.send_keys(password) \n",
    "\n",
    "    input_passwordConfirm = driver.find_element(By.ID, \"input-confirm\")\n",
    "    assert input_passwordConfirm is not None\n",
    "    input_passwordConfirm.send_keys(confirmed_password) \n",
    "    assert input_passwordConfirm.get_attribute(\"value\")==password\n",
    "    \n",
    "    if (input_newsletter == True):\n",
    "        subscribe = driver.find_element(By.ID, \"input-newsletter-yes\")\n",
    "        driver.execute_script(\"arguments[0].click();\", subscribe)\n",
    "    else:\n",
    "        subscribe = driver.find_element(By.ID, \"input-newsletter-no\")\n",
    "        driver.execute_script(\"arguments[0].click();\", subscribe)\n",
    "\n",
    "    if (policy_requirement == True):\n",
    "        policy_requirement_driver = driver.find_element(By.ID, \"input-agree\")\n",
    "        driver.execute_script(\"arguments[0].click();\", policy_requirement_driver)\n",
    "    else:\n",
    "        print(\"The button is not clicked\")\n",
    "        \n",
    "\n",
    "    time.sleep(2)\n",
    "\n",
    "    if (confirm_button == True):\n",
    "        continue_button = driver.find_element(By.CSS_SELECTOR, \"input[value='Continue'].btn.btn-primary\")\n",
    "        assert continue_button is not None, \"Continue button is not found\"\n",
    "        continue_button.click()\n",
    "    else:\n",
    "        print(\"The confirm button is not clicked\")\n",
    "    "
   ]
  },
  {
   "cell_type": "code",
   "execution_count": 12,
   "id": "082bc273",
   "metadata": {},
   "outputs": [
    {
     "name": "stdout",
     "output_type": "stream",
     "text": [
      "https://ecommerce-playground.lambdatest.io/index.php?route=account/register\n"
     ]
    }
   ],
   "source": [
    "import time\n",
    "\n",
    "Register(\"Steven\", \"Nguyen\", \"MinhTien.Nguyen@student.uts.edu.au\", \"0426192262\", \"bachkhoa\", \"bachkhoa\", True, True, True, driver)"
   ]
  },
  {
   "cell_type": "markdown",
   "id": "428b081f",
   "metadata": {},
   "source": [
    "## Test the Searching Function\n",
    "### The inputs needed to be tested includes:\n",
    "- Navigate to the \"Home\" page\n",
    "- Choose the \"Desktops\" (Product Category)\n",
    "- Enter the product keyword \"A\"\n",
    "- Choose the first product of dropdown => This is used to test the dropdown selection function\n",
    "- Clear the search box and replace by \"A\" again\n",
    "- Enter the \"Search\" button => This is used to test the \"Search\" button\n",
    "- Clicking the checkbox for \"Search in product descriptions\"\n",
    "- Choosing the \"List\" view\n",
    "- Choosing the \"Grid\" view\n",
    "- Choosing the number of showed products (50)\n",
    "\n",
    "### The output is:\n",
    "- The \"Search function\" performs as expected\n"
   ]
  },
  {
   "cell_type": "code",
   "execution_count": 17,
   "id": "ce1ba3e0",
   "metadata": {},
   "outputs": [],
   "source": [
    "def view_Option(description_checkbox: bool, list: bool, grid: bool, number_view: str, driver):\n",
    "    # TODO: Check box for “Search in product descriptions”\n",
    "    if (description_checkbox == True):\n",
    "        description_checkbox = driver.find_element(By.ID, \"description\")\n",
    "        assert description_checkbox is not None, \"The description checkbox cannot be found\"\n",
    "        driver.execute_script(\"arguments[0].click();\", description_checkbox)\n",
    "    else:\n",
    "        print(\"The description checkbox is not clicked\")\n",
    "\n",
    "    # TODO: Choose the format “Grid” or “List”\n",
    "    if (list == True):\n",
    "        list_view = driver.find_element(By.ID, \"list-view\")\n",
    "        assert list_view is not None, \"Cannot find the list view option\"\n",
    "        driver.execute_script(\"arguments[0].click();\", list_view)\n",
    "        time.sleep(2) #! Waiting 2 seconds to see the change\n",
    "    \n",
    "    if (grid == True):\n",
    "        grid_view = driver.find_element(By.ID, \"grid-view\")\n",
    "        assert grid_view is not None, \"Cannot find the grid view option\"\n",
    "        driver.execute_script(\"arguments[0].click();\", grid_view)\n",
    "        time.sleep(2) #! Waiting 2 seconds to see the change\n",
    "\n",
    "    # TODO: Choose the “Number” of showing\n",
    "    show_number = driver.find_element(By.ID, \"input-limit-212463\")\n",
    "    assert show_number is not None, \"Cannot find the show number dropdown\"\n",
    "    select = Select(show_number)\n",
    "    select.select_by_visible_text(number_view)\n",
    "    time.sleep(2) #! Waiting 2 seconds to see the change\n",
    "    driver.execute_script(\"window.scrollTo(0, document.body.scrollHeight);\")\n",
    "    time.sleep(2) #! Waiting 2 seconds to see the change"
   ]
  },
  {
   "cell_type": "code",
   "execution_count": 19,
   "id": "61581d88",
   "metadata": {},
   "outputs": [],
   "source": [
    "def Product_List(keyword_2: str, driver: webdriver.Chrome):\n",
    "    # TODO: Delete search box and replace by keyword_2\n",
    "    product_search = driver.find_element(By.CSS_SELECTOR, \"input[placeholder='Search For Products']\")\n",
    "    assert product_search is not None, \"Cannot find the place for inputting the searching\"  \n",
    "    product_search.clear()\n",
    "\n",
    "    time.sleep(1)\n",
    "\n",
    "    product_search.send_keys(keyword_2)\n",
    "    dropdown_search = driver.find_element(By.CSS_SELECTOR, \"ul.dropdown-menu.autocomplete.w-100\")\n",
    "    assert dropdown_search is not None, \"Cannot find the dropdown of search\"\n",
    "    time.sleep(2) #! Waiting 2 seconds for the dropdown to appear\n",
    "\n",
    "    # TODO: Check the \"Search\" button even the dropdown appears\n",
    "    search_button = driver.find_element(By.CSS_SELECTOR, \"button[type='submit'].type-text\")\n",
    "    assert search_button is not None, \"Cannot find the search button\"\n",
    "    driver.execute_script(\"arguments[0].click();\", search_button)\n",
    "    "
   ]
  },
  {
   "cell_type": "code",
   "execution_count": 23,
   "id": "066a7b47",
   "metadata": {},
   "outputs": [],
   "source": [
    "def Search_Product(keyword_1: str, keyword_2: str, driver: webdriver.Chrome):\n",
    "    driver.get(\"https://ecommerce-playground.lambdatest.io/index.php?route=common/home\")\n",
    "\n",
    "    category_button = driver.find_element(By.CSS_SELECTOR, \"button[type='button'].btn.dropdown-toggle\")\n",
    "    assert category_button is not None, \"The Category button cannot be found\"\n",
    "    category_button.click()\n",
    "    \n",
    "    time.sleep(1)\n",
    "\n",
    "    # TODO: Choose the \"Category\"\n",
    "    specific_category = driver.find_element(By.CSS_SELECTOR, \"a[data-category_id='20'].dropdown-item\")\n",
    "    assert specific_category is not None, \"Cannot choose the Desktop category\"\n",
    "    driver.execute_script(\"arguments[0].click();\", specific_category)\n",
    "\n",
    "    # TODO: Search the product name\n",
    "    product_search = driver.find_element(By.CSS_SELECTOR, \"input[placeholder='Search For Products']\")\n",
    "    assert product_search is not None, \"Cannot find the place for inputting the searching\"\n",
    "    product_search.send_keys(keyword_1)\n",
    "\n",
    "    # TODO: If receiving the proposed product, choose the first one\n",
    "    dropdown_search = driver.find_element(By.CSS_SELECTOR, \"ul.dropdown-menu.autocomplete.w-100\")\n",
    "    assert dropdown_search is not None, \"Cannot find the dropdown of search\"\n",
    "\n",
    "    time.sleep(2) #! Waiting 2 seconds for the dropdown to appear\n",
    "\n",
    "    if not dropdown_search.is_displayed():\n",
    "        #TODO: Click the search button\n",
    "        search_button = driver.find_element(By.CSS_SELECTOR, \"button[type='submit'].type-text\")\n",
    "        assert search_button is not None, \"Cannot find the search button\"\n",
    "        driver.execute_script(\"arguments[0].click();\", search_button)\n",
    "\n",
    "    elif dropdown_search.is_displayed():\n",
    "        # TODO: Click the first element\n",
    "        first_element = dropdown_search.find_element(By.CSS_SELECTOR, \".product-thumb .image a\")\n",
    "        assert first_element is not None, \"Cannot find the first element\"\n",
    "        link_url = first_element.get_attribute(\"href\")\n",
    "        if link_url:\n",
    "            driver.get(link_url)\n",
    "            Product_List(keyword_2, driver)\n",
    "        else:\n",
    "            raise Exception(\"The href attribute is missing or empty.\")"
   ]
  },
  {
   "cell_type": "code",
   "execution_count": 14,
   "id": "5b2291c5",
   "metadata": {},
   "outputs": [],
   "source": [
    "def Search_Test (keyword_1: str, keyword_2: str, description_checkbox: bool, list: bool, grid: bool, number_view: str, driver):\n",
    "    Search_Product (keyword_1, keyword_2, driver)\n",
    "    view_Option (description_checkbox, list, grid, number_view, driver)"
   ]
  },
  {
   "cell_type": "code",
   "execution_count": 24,
   "id": "75729be7",
   "metadata": {},
   "outputs": [],
   "source": [
    "from selenium.webdriver.support.ui import Select\n",
    "\n",
    "\n",
    "Search_Test (\"A\", \"A\", True, True, True, \"50\", driver)"
   ]
  },
  {
   "cell_type": "markdown",
   "id": "ebc68c76",
   "metadata": {},
   "source": [
    "## Test the writing review function\n",
    "### The inputs needed to be tested includes:\n",
    "- Rating the product\n",
    "- Reviewer name\n",
    "- Review text\n",
    "- Clicking submit button\n",
    "### The output is:\n",
    "- Submission alert of the review"
   ]
  },
  {
   "cell_type": "markdown",
   "id": "4202885d",
   "metadata": {},
   "source": [
    "### Rating The Product"
   ]
  },
  {
   "cell_type": "code",
   "execution_count": 24,
   "id": "45167191",
   "metadata": {},
   "outputs": [],
   "source": [
    "# Review rating function from 1 to 5 starts\n",
    "def review_rating(score: int, driver: webdriver.Chrome):\n",
    "    SCORE_INT = int(score)\n",
    "\n",
    "    assert 0 < SCORE_INT < 6, \"Score must be between 1 and 5\"\n",
    "    assert driver is not None, \"Driver must not be None\"\n",
    "    \n",
    "    RATING_SCORE_ID = [\"rating-1-216860\", \"rating-2-216860\", \"rating-3-216860\", \"rating-4-216860\", \"rating-5-216860\"]\n",
    "    RATING_SCORE = driver.find_element(By.CSS_SELECTOR, f\"label[for='{RATING_SCORE_ID[SCORE_INT-1]}']\")\n",
    "    RATING_SCORE.click()\n",
    "\n",
    "# Clear review rating\n",
    "def clear_review_rating(driver):\n",
    "    assert driver is not None, \"Driver must not be None\"\n",
    "\n",
    "    driver.find_element(By.CSS_SELECTOR, \"label[for='rating-0-216860']\").click()"
   ]
  },
  {
   "cell_type": "markdown",
   "id": "119f4765",
   "metadata": {},
   "source": [
    "### Reviewer Name"
   ]
  },
  {
   "cell_type": "code",
   "execution_count": 25,
   "id": "523a9db3",
   "metadata": {},
   "outputs": [],
   "source": [
    "def review_name(name: str, driver: webdriver.Chrome):\n",
    "    assert driver is not None, \"Driver must not be None\"\n",
    "\n",
    "    INPUT_NAME = driver.find_element(By.ID, \"input-name\")\n",
    "    INPUT_NAME.clear()\n",
    "    INPUT_NAME.send_keys(name)"
   ]
  },
  {
   "cell_type": "markdown",
   "id": "f07ba5fb",
   "metadata": {},
   "source": [
    "### Review Text"
   ]
  },
  {
   "cell_type": "code",
   "execution_count": 19,
   "id": "83056735",
   "metadata": {},
   "outputs": [],
   "source": [
    "def review_text(text: str, driver: webdriver.Chrome):\n",
    "    assert driver is not None, \"Driver must not be None\"\n",
    "\n",
    "    INPUT_REVIEW = driver.find_element(By.ID, \"input-review\")\n",
    "    INPUT_REVIEW.clear()\n",
    "    INPUT_REVIEW.send_keys(text)"
   ]
  },
  {
   "cell_type": "markdown",
   "id": "0b652c29",
   "metadata": {},
   "source": [
    "### Clicking Submit Button\n",
    "- This function returns the submission alert of the review"
   ]
  },
  {
   "cell_type": "code",
   "execution_count": 20,
   "id": "678b300a",
   "metadata": {},
   "outputs": [],
   "source": [
    "import time\n",
    "\n",
    "def submit_review(driver: webdriver.Chrome):\n",
    "    assert driver is not None, \"Driver must not be None\"\n",
    "    \n",
    "    SUBMIT_BUTTON = driver.find_element(By.ID, \"button-review\")\n",
    "    SUBMIT_BUTTON.click()\n",
    "\n",
    "    time.sleep(0.4)  # Wait for the alert message to appear\n",
    "\n",
    "    try:\n",
    "        ALERT_MESSAGE = driver.find_element(By.CSS_SELECTOR, \"div.alert.alert-danger.alert-dismissible\")\n",
    "    except:\n",
    "        ALERT_MESSAGE = driver.find_element(By.CSS_SELECTOR, \"div.alert.alert-success.alert-dismissible\")\n",
    "        \n",
    "    return ALERT_MESSAGE.text"
   ]
  },
  {
   "cell_type": "markdown",
   "id": "90cc4221",
   "metadata": {},
   "source": [
    "### Write Review function\n",
    "- This function calls all the inputing functions and return the alert message of the submission"
   ]
  },
  {
   "cell_type": "code",
   "execution_count": 21,
   "id": "1dd2a460",
   "metadata": {},
   "outputs": [],
   "source": [
    "def write_review(score: int, name: str, text: str, driver: webdriver.Chrome):\n",
    "    review_rating(score, driver)\n",
    "    review_name(name, driver)\n",
    "    review_text(text, driver)\n",
    "    return(submit_review(driver))"
   ]
  },
  {
   "cell_type": "code",
   "execution_count": 27,
   "id": "db3ca6ca",
   "metadata": {},
   "outputs": [
    {
     "ename": "AttributeError",
     "evalue": "'NoneType' object has no attribute 'click'",
     "output_type": "error",
     "traceback": [
      "\u001b[0;31m---------------------------------------------------------------------------\u001b[0m",
      "\u001b[0;31mAttributeError\u001b[0m                            Traceback (most recent call last)",
      "Cell \u001b[0;32mIn[27], line 1\u001b[0m\n\u001b[0;32m----> 1\u001b[0m \u001b[43mwrite_review\u001b[49m\u001b[43m(\u001b[49m\u001b[38;5;241;43m1.2\u001b[39;49m\u001b[43m,\u001b[49m\u001b[43m \u001b[49m\u001b[38;5;124;43m\"\u001b[39;49m\u001b[38;5;124;43mLe Nam Pham\u001b[39;49m\u001b[38;5;124;43m\"\u001b[39;49m\u001b[43m,\u001b[49m\u001b[43m \u001b[49m\u001b[38;5;124;43m\"\u001b[39;49m\u001b[38;5;124;43mI don\u001b[39;49m\u001b[38;5;124;43m'\u001b[39;49m\u001b[38;5;124;43mt like this product at all.\u001b[39;49m\u001b[38;5;124;43m\"\u001b[39;49m\u001b[43m,\u001b[49m\u001b[43m \u001b[49m\u001b[43mdriver\u001b[49m\u001b[43m)\u001b[49m\n",
      "Cell \u001b[0;32mIn[21], line 2\u001b[0m, in \u001b[0;36mwrite_review\u001b[0;34m(score, name, text, driver)\u001b[0m\n\u001b[1;32m      1\u001b[0m \u001b[38;5;28;01mdef\u001b[39;00m\u001b[38;5;250m \u001b[39m\u001b[38;5;21mwrite_review\u001b[39m(score: \u001b[38;5;28mint\u001b[39m, name: \u001b[38;5;28mstr\u001b[39m, text: \u001b[38;5;28mstr\u001b[39m, driver: webdriver\u001b[38;5;241m.\u001b[39mChrome):\n\u001b[0;32m----> 2\u001b[0m     \u001b[43mreview_rating\u001b[49m\u001b[43m(\u001b[49m\u001b[43mscore\u001b[49m\u001b[43m,\u001b[49m\u001b[43m \u001b[49m\u001b[43mdriver\u001b[49m\u001b[43m)\u001b[49m\n\u001b[1;32m      3\u001b[0m     review_name(name, driver)\n\u001b[1;32m      4\u001b[0m     review_text(text, driver)\n",
      "Cell \u001b[0;32mIn[24], line 10\u001b[0m, in \u001b[0;36mreview_rating\u001b[0;34m(score, driver)\u001b[0m\n\u001b[1;32m      8\u001b[0m RATING_SCORE_ID \u001b[38;5;241m=\u001b[39m [\u001b[38;5;124m\"\u001b[39m\u001b[38;5;124mrating-1-216860\u001b[39m\u001b[38;5;124m\"\u001b[39m, \u001b[38;5;124m\"\u001b[39m\u001b[38;5;124mrating-2-216860\u001b[39m\u001b[38;5;124m\"\u001b[39m, \u001b[38;5;124m\"\u001b[39m\u001b[38;5;124mrating-3-216860\u001b[39m\u001b[38;5;124m\"\u001b[39m, \u001b[38;5;124m\"\u001b[39m\u001b[38;5;124mrating-4-216860\u001b[39m\u001b[38;5;124m\"\u001b[39m, \u001b[38;5;124m\"\u001b[39m\u001b[38;5;124mrating-5-216860\u001b[39m\u001b[38;5;124m\"\u001b[39m]\n\u001b[1;32m      9\u001b[0m RATING_SCORE \u001b[38;5;241m=\u001b[39m driver\u001b[38;5;241m.\u001b[39mfind_element(By\u001b[38;5;241m.\u001b[39mCSS_SELECTOR, \u001b[38;5;124mf\u001b[39m\u001b[38;5;124m\"\u001b[39m\u001b[38;5;124mlabel[for=\u001b[39m\u001b[38;5;124m'\u001b[39m\u001b[38;5;132;01m{\u001b[39;00mRATING_SCORE_ID[SCORE_INT\u001b[38;5;241m-\u001b[39m\u001b[38;5;241m1\u001b[39m]\u001b[38;5;132;01m}\u001b[39;00m\u001b[38;5;124m'\u001b[39m\u001b[38;5;124m]\u001b[39m\u001b[38;5;124m\"\u001b[39m)\n\u001b[0;32m---> 10\u001b[0m \u001b[43mRATING_SCORE\u001b[49m\u001b[38;5;241;43m.\u001b[39;49m\u001b[43mclick\u001b[49m()\n",
      "\u001b[0;31mAttributeError\u001b[0m: 'NoneType' object has no attribute 'click'"
     ]
    }
   ],
   "source": [
    "write_review(1.2, \"Le Nam Pham\", \"I don't like this product at all.\", driver)"
   ]
  },
  {
   "cell_type": "markdown",
   "id": "89a22f92",
   "metadata": {},
   "source": [
    "## Test the Adding to Cart and Checkout Function\n",
    "### The inputs needed to be tested include:\n",
    "- Navigate to the \"https://ecommerce-playground.lambdatest.io/index.php?route=product/manufacturer/info&manufacturer_id=8&mz_fss=-1\" page\n",
    "- Click the button \"Add to Cart\"\n",
    "- Choose the preferred size (Large)\n",
    "- Click the button \"Add to Cart\"\n",
    "- Click the button \"View Cart\"\n",
    "- Click the \"Use Coupon Code\" button\n",
    "- Entering \"We are the UTS students\" in the box\n",
    "- Click the Coupon button\n",
    "- Click the \"Estimating Shipping & Taxes\" button\n",
    "- Choose country as \"Australia\"\n",
    "- Choose region as \"New South Wales\"\n",
    "- Choose Postcode as \"2007\"\n",
    "- Click the \"Get Quote\" button\n",
    "- Click the \"Option of Flat Rate\" checkbox\n",
    "- Click the \"Apply Shipping\" button\n",
    "- Click the \"Gift Certificate\" button\n",
    "- Entering \"UTS1002\" in the box\n",
    "- Click the Voucher button\n",
    "- Click the Checkout button\n",
    "\n",
    "## The output is:\n",
    "- The alert about the \"Invalid Coupon\"\n",
    "- The alert about the \"Invalid Voucher\"\n",
    "- The alert about the \"Out of Stock\" => This is the failure of the program when it gives the alert while the products are in the \"In Stock\" Category."
   ]
  },
  {
   "cell_type": "code",
   "execution_count": 37,
   "id": "17bae5b2",
   "metadata": {},
   "outputs": [],
   "source": [
    "def gift_certification_F(giftcode: str, driver: webdriver.Chrome):\n",
    "    #TODO: Use the \"Gift Certificate\" + Fill in the box\n",
    "    gift_certificate = driver.find_element(By.XPATH, \"//h5[contains(text(), 'Use Gift Certificate')]\")\n",
    "    driver.execute_script(\"arguments[0].click()\", gift_certificate)\n",
    "    time.sleep(1) #Wait for the box appear\n",
    "    voucher = driver.find_element(By.ID, \"input-voucher\")\n",
    "    voucher.send_keys(giftcode)\n",
    "    #time.sleep(2)\n",
    "\n",
    "    #TODO: Click the button of the \"Gift Certificate\"\n",
    "    button_voucher = driver.find_element(By.ID, \"button-voucher\")\n",
    "    driver.execute_script(\"arguments[0].click()\", button_voucher)\n",
    "    #! It will appear the invalid voucher\n",
    "\n",
    "    #TODO: Enter the \"Check-out\" button\n",
    "    button_checkout = driver.find_element(By.XPATH, \"//a[contains(text(), 'Checkout')]\")\n",
    "    driver.execute_script(\"arguments[0].click()\", button_checkout)\n",
    "    #! Invalid because it does not adapt the quality (the minimum is 2 but cannot buy)"
   ]
  },
  {
   "cell_type": "code",
   "execution_count": 36,
   "id": "17037449",
   "metadata": {},
   "outputs": [],
   "source": [
    "def shopping_tax_F (driver: webdriver.Chrome):\n",
    "    #TODO: Enter “Estimate Shipping & Taxes”\n",
    "    shipping_taxes = driver.find_element(By.XPATH, \"//h5[contains(text(), 'Estimate Shipping')]\") #? XPATH used to locate the element in the HTML files\n",
    "    driver.execute_script(\"arguments[0].click()\", shipping_taxes)\n",
    "    time.sleep(1) #Wait for the box appear\n",
    "\n",
    "    #TODO: Choose Country + Region + Postcode\n",
    "    input_country = driver.find_element(By.ID, \"input-country\")\n",
    "    select_country = Select(input_country)\n",
    "    select_country.select_by_value(\"13\")\n",
    "    time.sleep(1) #! I do not know why putting this, because if I do not put this the program cannot run\n",
    "\n",
    "    input_state = driver.find_element(By.ID, \"input-zone\")\n",
    "    select_state = Select(input_state)\n",
    "    select_state.select_by_value(\"192\")\n",
    "\n",
    "    input_postcode = driver.find_element(By.ID, \"input-postcode\")\n",
    "    input_postcode.send_keys(\"2007\")\n",
    "\n",
    "    #TODO: Enter the \"Get Quote\"\n",
    "    button_quote = driver.find_element(By.ID, \"button-quote\")\n",
    "    driver.execute_script(\"arguments[0].click()\", button_quote)\n",
    "    time.sleep(1) # Need the time for waiting to lead the table\n",
    "\n",
    "\n",
    "    #TODO: Click “Option of Flat Rate” (if any)\n",
    "    shipping_method = driver.find_element(By.NAME, \"shipping_method\")\n",
    "    driver.execute_script(\"arguments[0].click()\", shipping_method)\n",
    "    time.sleep(1)\n",
    "    #TODO: Click the button \"Apply Shipping\"\n",
    "    button_shipping = driver.find_element(By.ID, \"button-shipping\")\n",
    "    driver.execute_script(\"arguments[0].click()\", button_shipping)\n",
    "    time.sleep(3)"
   ]
  },
  {
   "cell_type": "code",
   "execution_count": 41,
   "id": "937a93fa",
   "metadata": {},
   "outputs": [],
   "source": [
    "def coupon(coupon_code: str, driver: webdriver.Chrome):\n",
    "    # TODO: \"Use Coupon Code\" + Fill the string into the blank box + Apply Coupon\n",
    "    coupon_header = driver.find_element(By.CSS_SELECTOR, \"h5[data-toggle='collapse'].card-header\")\n",
    "    driver.execute_script(\"arguments[0].click()\", coupon_header)\n",
    "    time.sleep(1) #Wait for the box appear\n",
    "\n",
    "    input_coupon = driver.find_element(By.ID, \"input-coupon\")\n",
    "    input_coupon.send_keys(coupon_code)\n",
    "\n",
    "    apply_coupon = driver.find_element(By.ID, \"button-coupon\")\n",
    "    driver.execute_script(\"arguments[0].click()\", apply_coupon)\n",
    "    time.sleep(1)\n",
    "    #! It will appear the invalid coupon\n"
   ]
  },
  {
   "cell_type": "code",
   "execution_count": 34,
   "id": "71e17604",
   "metadata": {},
   "outputs": [],
   "source": [
    "def privilege_shopping (have_coupon: bool, coupon_code: str, shopping_tax: bool, gift_certification: bool, gift_code: str, driver: webdriver.Chrome):\n",
    "    if (have_coupon == True):\n",
    "        coupon(coupon_code, driver)\n",
    "    \n",
    "    if (shopping_tax == True):\n",
    "        shopping_tax_F(driver)\n",
    "    \n",
    "    if (gift_certification == True):\n",
    "        gift_certification_F(gift_code, driver)\n"
   ]
  },
  {
   "cell_type": "code",
   "execution_count": 26,
   "id": "f81d40b5",
   "metadata": {},
   "outputs": [],
   "source": [
    "def addingCart_checkOut (product_size: str, driver: webdriver.Chrome):\n",
    "    # TODO: Click the button \"Add to Cart\"\n",
    "    #! will error because can click for the “Out of stock”\n",
    "    add_to_cart_button = driver.find_element(By.CSS_SELECTOR, \"button[title='Add to Cart'].btn.btn-cart.cart-42\")\n",
    "    driver.execute_script(\"arguments[0].click()\", add_to_cart_button)\n",
    "    time.sleep(2) # Waiting for loading the product\n",
    "\n",
    "    #TODO: Choose the size \n",
    "    # <select name=\"option[231]\" id=\"input-option231-212958\" class=\"custom-select\"> <option value=\"\"> --- Please Select --- </option> <option value=\"35\">Medium\n",
    "    products_size_driver = driver.find_element(By.ID, \"input-option231-212958\")\n",
    "    select_products_size = Select(products_size_driver)\n",
    "    select_products_size.select_by_value(product_size) # THE LARGE ONE\n",
    "    time.sleep(1)\n",
    "\n",
    "    #TODO: Add the button \"Add to Cart\" again\n",
    "    add_to_cart_button_2 = driver.find_element(By.CSS_SELECTOR, \"button[title='Add to Cart'].text.btn.btn-cart.cart-42\")\n",
    "    driver.execute_script(\"arguments[0].click()\", add_to_cart_button_2)\n",
    "    time.sleep(2) # Waiting for loading the product\n",
    "\n",
    "    # TODO: Click the button “View Cart”\n",
    "    view_cart = driver.find_element(By.CSS_SELECTOR, \"a.btn.btn-primary.btn-block\")\n",
    "    driver.execute_script(\"arguments[0].click()\", view_cart)\n",
    "    time.sleep(2)\n",
    "    "
   ]
  },
  {
   "cell_type": "code",
   "execution_count": 25,
   "id": "f4134d13",
   "metadata": {},
   "outputs": [],
   "source": [
    "def shoppingCart_checkOut_Test(product_size: str, have_coupon: bool, coupon_code: str, shopping_tax: bool, gift_certification: bool, gift_code: str, driver: webdriver.Chrome):\n",
    "    addingCart_checkOut(product_size, driver)\n",
    "    privilege_shopping(have_coupon, coupon_code, shopping_tax, gift_certification, gift_code, driver)"
   ]
  },
  {
   "cell_type": "code",
   "execution_count": 42,
   "id": "daa9093d",
   "metadata": {},
   "outputs": [],
   "source": [
    "import time\n",
    "from selenium.webdriver.common.by import By\n",
    "from selenium.webdriver.support.ui import Select\n",
    "\n",
    "driver.get(\"https://ecommerce-playground.lambdatest.io/index.php?route=product/manufacturer/info&manufacturer_id=8&mz_fss=-1\")\n",
    "\n",
    "shoppingCart_checkOut_Test (\"34\", True, \"We are the UTS students\", True, True, \"UTS2007\", driver)"
   ]
  },
  {
   "cell_type": "markdown",
   "id": "9509502c",
   "metadata": {},
   "source": [
    "# Close the webdriver"
   ]
  },
  {
   "cell_type": "code",
   "execution_count": 4,
   "id": "a11b3124",
   "metadata": {},
   "outputs": [],
   "source": [
    "driver.quit()"
   ]
  }
 ],
 "metadata": {
  "kernelspec": {
   "display_name": "Python 3",
   "language": "python",
   "name": "python3"
  },
  "language_info": {
   "codemirror_mode": {
    "name": "ipython",
    "version": 3
   },
   "file_extension": ".py",
   "mimetype": "text/x-python",
   "name": "python",
   "nbconvert_exporter": "python",
   "pygments_lexer": "ipython3",
   "version": "3.13.7"
  }
 },
 "nbformat": 4,
 "nbformat_minor": 5
}

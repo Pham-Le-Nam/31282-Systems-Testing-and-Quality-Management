{
 "cells": [
  {
   "cell_type": "markdown",
   "id": "9b2d8a96",
   "metadata": {},
   "source": [
    "# Installing selenium and behave libraries into the environment"
   ]
  },
  {
   "cell_type": "code",
   "execution_count": null,
   "id": "9b89e316",
   "metadata": {},
   "outputs": [],
   "source": [
    "%pip install selenium behave"
   ]
  },
  {
   "cell_type": "markdown",
   "id": "13ae7155",
   "metadata": {},
   "source": [
    "# Import webdriver and Launch the website"
   ]
  },
  {
   "cell_type": "code",
   "execution_count": 116,
   "id": "b51cf81b",
   "metadata": {},
   "outputs": [],
   "source": [
    "from selenium import webdriver\n",
    "from selenium.webdriver.common.by import By\n",
    "\n",
    "driver = webdriver.Chrome()\n",
    "driver.get(\"https://ecommerce-playground.lambdatest.io/index.php?route=common/home\")\n"
   ]
  },
  {
   "cell_type": "markdown",
   "id": "1c54d900",
   "metadata": {},
   "source": [
    "# Testing functions"
   ]
  },
  {
   "cell_type": "markdown",
   "id": "2f060d3c",
   "metadata": {},
   "source": [
    "## Testing Login Function\n",
    "- Go to the login page\n",
    "- Input login information\n",
    "- Press the login button to login"
   ]
  },
  {
   "cell_type": "markdown",
   "id": "28e19a9b",
   "metadata": {},
   "source": [
    "### Go to the login page\n",
    "- Click the button \"My Account\" on the Navigation bar"
   ]
  },
  {
   "cell_type": "code",
   "execution_count": null,
   "id": "ae75ffcc",
   "metadata": {},
   "outputs": [],
   "source": [
    "def go_to_login(driver : webdriver.Chrome):\n",
    "    # Click the button \"My Account\" on the Navigatino bar\n",
    "    DROPDOWN_ELEMENTS = driver.find_elements(By.CLASS_NAME, \"icon-left.both.nav-link.dropdown-toggle\")\n",
    "    for element in DROPDOWN_ELEMENTS:\n",
    "        if element.text == \"My account\":\n",
    "            element.click()\n",
    "\n",
    "    # Find the \"Register\" button then click it\n",
    "    LIST_GROUP_ITEM = driver.find_elements(By.CLASS_NAME, \"list-group-item\")\n",
    "    for item in LIST_GROUP_ITEM:\n",
    "\n",
    "        # User has logged in. Must logout then try to register again\n",
    "        if item.text == \"Logout\":\n",
    "            item.click()\n",
    "            go_to_login(driver)\n",
    "            return"
   ]
  },
  {
   "cell_type": "markdown",
   "id": "cb7f3ae3",
   "metadata": {},
   "source": [
    "### Input the information\n",
    "- Email\n",
    "- Password"
   ]
  },
  {
   "cell_type": "code",
   "execution_count": null,
   "id": "87008e03",
   "metadata": {},
   "outputs": [],
   "source": [
    "# This function fills in the user's information and check the checkboxes\n",
    "def input_login_information(email : str, password : str, driver : webdriver.Chrome = None):\n",
    "    # Clear the input box and fill in the information\n",
    "    try: \n",
    "        EMAIL_INPUT = driver.find_element(By.ID, \"input-email\")\n",
    "        EMAIL_INPUT.clear()\n",
    "        EMAIL_INPUT.send_keys(email)\n",
    "        \n",
    "        PASSWORD_INPUT = driver.find_element(By.ID, \"input-password\")\n",
    "        PASSWORD_INPUT.clear()\n",
    "        PASSWORD_INPUT.send_keys(password)\n",
    "    except:\n",
    "        assert False, \"You may not in the correct page\""
   ]
  },
  {
   "cell_type": "markdown",
   "id": "38c91e7d",
   "metadata": {},
   "source": [
    "### Press the continue button to login"
   ]
  },
  {
   "cell_type": "code",
   "execution_count": null,
   "id": "a3a3be96",
   "metadata": {},
   "outputs": [],
   "source": [
    "def click_login_button(driver : webdriver.Chrome):\n",
    "    try:\n",
    "        driver.find_element(By.CSS_SELECTOR, \"input.btn.btn-primary\").click()\n",
    "    except:\n",
    "        assert False, \"You might not in the correct page\""
   ]
  },
  {
   "cell_type": "markdown",
   "id": "77022e63",
   "metadata": {},
   "source": [
    "### Combine the functions"
   ]
  },
  {
   "cell_type": "code",
   "execution_count": 80,
   "id": "541d0682",
   "metadata": {},
   "outputs": [],
   "source": [
    "def login(email : str, password : str, driver : webdriver.Chrome = None):\n",
    "    go_to_login(driver)\n",
    "    input_login_information(email, password, driver)\n",
    "    click_login_button(driver)"
   ]
  },
  {
   "cell_type": "markdown",
   "id": "c889ddf8",
   "metadata": {},
   "source": [
    "---"
   ]
  },
  {
   "cell_type": "markdown",
   "id": "a71f5a6a",
   "metadata": {},
   "source": [
    "## Test edit account information"
   ]
  },
  {
   "cell_type": "markdown",
   "id": "cd929616",
   "metadata": {},
   "source": [
    "### Edit personal details"
   ]
  },
  {
   "cell_type": "markdown",
   "id": "5e098157",
   "metadata": {},
   "source": [
    "- Go to edit personal page"
   ]
  },
  {
   "cell_type": "code",
   "execution_count": 95,
   "id": "cc1aa673",
   "metadata": {},
   "outputs": [],
   "source": [
    "def go_to_edit_personal(driver : webdriver.Chrome):\n",
    "    # Click the button \"My Account\" on the Navigatino bar\n",
    "    DROPDOWN_ELEMENTS = driver.find_elements(By.CLASS_NAME, \"icon-left.both.nav-link.dropdown-toggle\")\n",
    "    for element in DROPDOWN_ELEMENTS:\n",
    "        if element.text == \"My account\":\n",
    "            element.click()\n",
    "\n",
    "    # Find the \"Register\" button then click it\n",
    "    LIST_GROUP_ITEM = driver.find_elements(By.CLASS_NAME, \"list-group-item\")\n",
    "    for item in LIST_GROUP_ITEM:\n",
    "\n",
    "        if item.text == \"Edit Account\":\n",
    "            item.click()\n",
    "            return\n",
    "\n",
    "        # Assert if the user did not log in\n",
    "        assert item.text != \"Login\", \"You did not log in yet.\""
   ]
  },
  {
   "cell_type": "markdown",
   "id": "bfcc348c",
   "metadata": {},
   "source": [
    "- Input details"
   ]
  },
  {
   "cell_type": "code",
   "execution_count": 85,
   "id": "9fd5fd8d",
   "metadata": {},
   "outputs": [],
   "source": [
    "# Empty string means do not edit that field\n",
    "def input_edit_personal(first_name : str = \"\", last_name : str = \"\", email : str = \"\", telephone : str = \"\", driver : webdriver.Chrome = None):\n",
    "    try:\n",
    "        FIRST_NAME_INPUT = driver.find_element(By.ID, \"input-firstname\")\n",
    "        if len(first_name):\n",
    "            FIRST_NAME_INPUT.clear()\n",
    "            FIRST_NAME_INPUT.send_keys(first_name)\n",
    "\n",
    "        LAST_NAME_INPUT = driver.find_element(By.ID, \"input-lastname\")\n",
    "        if len(last_name):\n",
    "            LAST_NAME_INPUT.clear()\n",
    "            LAST_NAME_INPUT.send_keys(last_name)\n",
    "\n",
    "        EMAIL_INPUT = driver.find_element(By.ID, \"input-email\")\n",
    "        if len(email):\n",
    "            EMAIL_INPUT.clear()\n",
    "            EMAIL_INPUT.send_keys(email)\n",
    "\n",
    "        TELEPHONE_INPUT = driver.find_element(By.ID, \"input-telephone\")\n",
    "        if len(telephone):\n",
    "            TELEPHONE_INPUT.clear()\n",
    "            TELEPHONE_INPUT.send_keys(telephone)\n",
    "    \n",
    "    except:\n",
    "        assert False, \"You may not in the correct page\""
   ]
  },
  {
   "cell_type": "markdown",
   "id": "6cf17b35",
   "metadata": {},
   "source": [
    "- Press button to submit"
   ]
  },
  {
   "cell_type": "code",
   "execution_count": null,
   "id": "ede56d28",
   "metadata": {},
   "outputs": [],
   "source": [
    "def click_edit_personal_button(driver : webdriver.Chrome):\n",
    "    try:\n",
    "        driver.find_element(By.CSS_SELECTOR, \"input.btn.btn-primary\").click()\n",
    "    except:\n",
    "        assert False, \"You might not in the correct page\""
   ]
  },
  {
   "cell_type": "markdown",
   "id": "1fec5599",
   "metadata": {},
   "source": [
    "### Change password"
   ]
  },
  {
   "cell_type": "markdown",
   "id": "af484234",
   "metadata": {},
   "source": [
    "- Go to change password page"
   ]
  },
  {
   "cell_type": "code",
   "execution_count": 88,
   "id": "aa5c64c0",
   "metadata": {},
   "outputs": [],
   "source": [
    "def go_to_edit_password(driver : webdriver.Chrome):\n",
    "    # Click the button \"My Account\" on the Navigatino bar\n",
    "    DROPDOWN_ELEMENTS = driver.find_elements(By.CLASS_NAME, \"icon-left.both.nav-link.dropdown-toggle\")\n",
    "    for element in DROPDOWN_ELEMENTS:\n",
    "        if element.text == \"My account\":\n",
    "            element.click()\n",
    "\n",
    "    # Find the \"Register\" button then click it\n",
    "    LIST_GROUP_ITEM = driver.find_elements(By.CLASS_NAME, \"list-group-item\")\n",
    "    for item in LIST_GROUP_ITEM:\n",
    "\n",
    "        if item.text == \"Password\":\n",
    "            item.click()\n",
    "            return\n",
    "\n",
    "        # Assert if the user did not log in\n",
    "        assert item.text != \"Login\", \"You did not log in yet.\""
   ]
  },
  {
   "cell_type": "markdown",
   "id": "e700c045",
   "metadata": {},
   "source": [
    "- Input new password"
   ]
  },
  {
   "cell_type": "code",
   "execution_count": 100,
   "id": "9156494a",
   "metadata": {},
   "outputs": [],
   "source": [
    "# Empty string means do not edit that field\n",
    "def input_edit_password(password : str = \"\", confirm_password : str = \"\", driver : webdriver.Chrome = None):\n",
    "    try:\n",
    "        PASSWORD_INPUT = driver.find_element(By.ID, \"input-password\")\n",
    "        if len(password):\n",
    "            PASSWORD_INPUT.clear()\n",
    "            PASSWORD_INPUT.send_keys(password)\n",
    "\n",
    "        CONFIRM_PASSWORD_INPUT = driver.find_element(By.ID, \"input-confirm\")\n",
    "        if len(confirm_password):\n",
    "            CONFIRM_PASSWORD_INPUT.clear()\n",
    "            CONFIRM_PASSWORD_INPUT.send_keys(confirm_password)\n",
    "    \n",
    "    except:\n",
    "        assert False, \"You may not in the correct page\""
   ]
  },
  {
   "cell_type": "markdown",
   "id": "1d551540",
   "metadata": {},
   "source": [
    "- Press button to submit"
   ]
  },
  {
   "cell_type": "code",
   "execution_count": null,
   "id": "921852c5",
   "metadata": {},
   "outputs": [],
   "source": [
    "def click_edit_password_button(driver : webdriver.Chrome):\n",
    "    try:\n",
    "        driver.find_element(By.CSS_SELECTOR, \"input.btn.btn-primary\").click()\n",
    "    except:\n",
    "        assert False, \"You might not in the correct page\""
   ]
  },
  {
   "cell_type": "markdown",
   "id": "510ad2ef",
   "metadata": {},
   "source": [
    "### Change newsletter subscription"
   ]
  },
  {
   "cell_type": "markdown",
   "id": "62087cae",
   "metadata": {},
   "source": [
    "- Go to newsletter page"
   ]
  },
  {
   "cell_type": "code",
   "execution_count": 99,
   "id": "da848562",
   "metadata": {},
   "outputs": [],
   "source": [
    "def go_to_edit_newsletter(driver: webdriver.Chrome):\n",
    "    # Click the button \"My Account\" on the Navigatino bar\n",
    "    DROPDOWN_ELEMENTS = driver.find_elements(By.CLASS_NAME, \"icon-left.both.nav-link.dropdown-toggle\")\n",
    "    for element in DROPDOWN_ELEMENTS:\n",
    "        if element.text == \"My account\":\n",
    "            element.click()\n",
    "\n",
    "    # Find the \"Register\" button then click it\n",
    "    LIST_GROUP_ITEM = driver.find_elements(By.CLASS_NAME, \"list-group-item\")\n",
    "    for item in LIST_GROUP_ITEM:\n",
    "\n",
    "        if item.text == \"Newsletter\":\n",
    "            item.click()\n",
    "            return\n",
    "\n",
    "        # Assert if the user did not log in\n",
    "        assert item.text != \"Login\", \"You did not log in yet.\""
   ]
  },
  {
   "cell_type": "markdown",
   "id": "122d83b6",
   "metadata": {},
   "source": [
    "- Change the value of subscription"
   ]
  },
  {
   "cell_type": "code",
   "execution_count": null,
   "id": "e01cedaa",
   "metadata": {},
   "outputs": [],
   "source": [
    "def input_edit_newsletter(subscription : bool, driver : webdriver.Chrome):\n",
    "    try:\n",
    "        driver.find_element(By.CSS_SELECTOR, \"label.custom-control-label[for='input-newsletter-yes']\" if subscription \n",
    "                            else \"label.custom-control-label[for='input-newsletter-no']\").click()\n",
    "    except:\n",
    "        assert False, \"You might not in the correct page\""
   ]
  },
  {
   "cell_type": "markdown",
   "id": "bd392d9f",
   "metadata": {},
   "source": [
    "- Press button to submit"
   ]
  },
  {
   "cell_type": "code",
   "execution_count": 106,
   "id": "badd2144",
   "metadata": {},
   "outputs": [],
   "source": [
    "def click_edit_newsletter(driver : webdriver.Chrome):\n",
    "    try:\n",
    "        driver.find_element(By.CSS_SELECTOR, \"input.btn.btn-primary\").click()\n",
    "    except:\n",
    "        assert False, \"You might not in the correct page\""
   ]
  },
  {
   "cell_type": "markdown",
   "id": "e838d11c",
   "metadata": {},
   "source": [
    "### Combine them together"
   ]
  },
  {
   "cell_type": "code",
   "execution_count": 109,
   "id": "a8f31bdb",
   "metadata": {},
   "outputs": [],
   "source": [
    "def edit_account_information(first_name : str = \"\", last_name : str = \"\", email : str = \"\", telephone : str = \"\",\n",
    "                             password : str = \"\", confirm_password : str = \"\", subscription : bool = True, \n",
    "                             driver : webdriver.Chrome = None):\n",
    "    # Edit personal information\n",
    "    go_to_edit_personal(driver)\n",
    "    input_edit_personal(first_name, last_name, email, telephone, driver)\n",
    "    click_edit_personal_button(driver)\n",
    "\n",
    "    # Change password\n",
    "    go_to_edit_password(driver)\n",
    "    input_edit_password(password, confirm_password, driver)\n",
    "    click_edit_password_button(driver)\n",
    "\n",
    "    # Update newsletter subscription\n",
    "    go_to_edit_newsletter(driver)\n",
    "    input_edit_newsletter(subscription, driver)\n",
    "    click_edit_newsletter(driver)"
   ]
  },
  {
   "cell_type": "code",
   "execution_count": 119,
   "id": "cb07703b",
   "metadata": {},
   "outputs": [],
   "source": [
    "edit_account_information(\"Le Nam\", \"Pham\", \"nam@namail.com\", \"\", \"password\", \"password\", True, driver)"
   ]
  },
  {
   "cell_type": "markdown",
   "id": "07a71a4d",
   "metadata": {},
   "source": [
    "### Logout and try to login with old and new information"
   ]
  },
  {
   "cell_type": "code",
   "execution_count": 120,
   "id": "b5f23a85",
   "metadata": {},
   "outputs": [],
   "source": [
    "login(\"na@namail.com\", \"pass\", driver)\n",
    "login(\"nam@namail.com\", \"password\", driver)\n"
   ]
  },
  {
   "cell_type": "markdown",
   "id": "ebc68c76",
   "metadata": {},
   "source": [
    "## Test the writing review function"
   ]
  },
  {
   "cell_type": "markdown",
   "id": "bf09161b",
   "metadata": {},
   "source": [
    "### Write review function\n",
    "- Input information and the review text"
   ]
  },
  {
   "cell_type": "code",
   "execution_count": 122,
   "id": "8ada3428",
   "metadata": {},
   "outputs": [],
   "source": [
    "def write_review_information(score: int, name: str, text: str, driver: webdriver.Chrome):\n",
    "    SCORE_INT = int(score)\n",
    "\n",
    "    assert 0 < SCORE_INT < 6, \"Score must be between 1 and 5\"\n",
    "    assert driver is not None, \"Driver must not be None\"\n",
    "    \n",
    "    RATING_SCORE_ID = [\"rating-1-216860\", \"rating-2-216860\", \"rating-3-216860\", \"rating-4-216860\", \"rating-5-216860\"]\n",
    "    RATING_SCORE = driver.find_element(By.CSS_SELECTOR, f\"label[for='{RATING_SCORE_ID[SCORE_INT-1]}']\")\n",
    "    RATING_SCORE.click()\n",
    "\n",
    "    INPUT_NAME = driver.find_element(By.ID, \"input-name\")\n",
    "    INPUT_NAME.clear()\n",
    "    INPUT_NAME.send_keys(name)\n",
    "\n",
    "    INPUT_REVIEW = driver.find_element(By.ID, \"input-review\")\n",
    "    INPUT_REVIEW.clear()\n",
    "    INPUT_REVIEW.send_keys(text)"
   ]
  },
  {
   "cell_type": "markdown",
   "id": "0b652c29",
   "metadata": {},
   "source": [
    "### Clicking Submit Button\n",
    "- This function returns the submission alert of the review"
   ]
  },
  {
   "cell_type": "code",
   "execution_count": 123,
   "id": "678b300a",
   "metadata": {},
   "outputs": [],
   "source": [
    "import time\n",
    "\n",
    "def submit_review(driver: webdriver.Chrome):\n",
    "    assert driver is not None, \"Driver must not be None\"\n",
    "    \n",
    "    SUBMIT_BUTTON = driver.find_element(By.ID, \"button-review\")\n",
    "    SUBMIT_BUTTON.click()\n",
    "\n",
    "    time.sleep(0.4)  # Wait for the alert message to appear\n",
    "\n",
    "    try:\n",
    "        ALERT_MESSAGE = driver.find_element(By.CSS_SELECTOR, \"div.alert.alert-danger.alert-dismissible\")\n",
    "    except:\n",
    "        ALERT_MESSAGE = driver.find_element(By.CSS_SELECTOR, \"div.alert.alert-success.alert-dismissible\")\n",
    "        \n",
    "    return ALERT_MESSAGE.text"
   ]
  },
  {
   "cell_type": "markdown",
   "id": "b9473c23",
   "metadata": {},
   "source": [
    "## Combine the two functions"
   ]
  },
  {
   "cell_type": "code",
   "execution_count": 124,
   "id": "41faebb7",
   "metadata": {},
   "outputs": [],
   "source": [
    "def write_review(score: int, name: str, text: str, driver: webdriver.Chrome):\n",
    "    write_review_information(score, name, text, driver)\n",
    "    return(submit_review(driver))"
   ]
  },
  {
   "cell_type": "markdown",
   "id": "79b8d28d",
   "metadata": {},
   "source": [
    "### Click every product on the search page and write a review"
   ]
  },
  {
   "cell_type": "code",
   "execution_count": 125,
   "id": "b7dc0bad",
   "metadata": {},
   "outputs": [],
   "source": [
    "import random\n",
    "\n",
    "def click_and_review_products(driver : webdriver.Chrome):\n",
    "    try:\n",
    "        PRODUCT_ELEMENTS = driver.find_elements(By.CLASS_NAME, \"text-ellipsis-2\")\n",
    "    except:\n",
    "        PRODUCT_ELEMENTS = driver.find_elements(By.CLASS_NAME, \"carousel.d-block.slide\")\n",
    "\n",
    "    NAME = \"My name\"\n",
    "    TEXTS = [\"I hate this product so much that I have to write this review.\", \"I don't like this product at all.\", \n",
    "             \"I have no good or bad feeling about this product.\", \"This product is good, I like it may buy it again.\",\n",
    "             \"I love this product, you guys should try it.\"]\n",
    "    \n",
    "    for element in PRODUCT_ELEMENTS:\n",
    "        if element.is_displayed():\n",
    "            SCORE = random.randint(1, 5)\n",
    "            element.click()\n",
    "            write_review(SCORE, NAME, TEXTS[SCORE-1], driver)\n",
    "            time.sleep(2)\n",
    "            driver.back()"
   ]
  },
  {
   "cell_type": "code",
   "execution_count": 127,
   "id": "56d953c4",
   "metadata": {},
   "outputs": [],
   "source": [
    "click_and_review_products(driver)"
   ]
  },
  {
   "cell_type": "markdown",
   "id": "9509502c",
   "metadata": {},
   "source": [
    "# Close the webdriver"
   ]
  },
  {
   "cell_type": "code",
   "execution_count": 115,
   "id": "a11b3124",
   "metadata": {},
   "outputs": [],
   "source": [
    "driver.quit()"
   ]
  }
 ],
 "metadata": {
  "kernelspec": {
   "display_name": ".venv",
   "language": "python",
   "name": "python3"
  },
  "language_info": {
   "codemirror_mode": {
    "name": "ipython",
    "version": 3
   },
   "file_extension": ".py",
   "mimetype": "text/x-python",
   "name": "python",
   "nbconvert_exporter": "python",
   "pygments_lexer": "ipython3",
   "version": "3.11.1"
  }
 },
 "nbformat": 4,
 "nbformat_minor": 5
}
